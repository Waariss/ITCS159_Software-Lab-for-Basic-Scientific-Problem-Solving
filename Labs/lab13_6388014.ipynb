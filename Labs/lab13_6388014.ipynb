{
 "cells": [
  {
   "cell_type": "code",
   "execution_count": 1,
   "id": "79823919",
   "metadata": {},
   "outputs": [
    {
     "name": "stdout",
     "output_type": "stream",
     "text": [
      "showing info https://raw.githubusercontent.com/nltk/nltk_data/gh-pages/index.xml\n"
     ]
    },
    {
     "data": {
      "text/plain": [
       "True"
      ]
     },
     "execution_count": 1,
     "metadata": {},
     "output_type": "execute_result"
    }
   ],
   "source": [
    "import nltk\n",
    "nltk.download()"
   ]
  },
  {
   "cell_type": "markdown",
   "id": "d4e16efb",
   "metadata": {},
   "source": [
    "# Tokenization"
   ]
  },
  {
   "cell_type": "code",
   "execution_count": 3,
   "id": "7cb0233a",
   "metadata": {},
   "outputs": [
    {
     "name": "stdout",
     "output_type": "stream",
     "text": [
      "['Dogs ,Canis lupus familiaris, are domesticated mammals,\\nnot natural wild animals.', 'They were originally bred from\\nwolves.', 'They have been bred by humans for a long time, and\\nwere the first animals ever to be domesticated.', 'Today, some dogs are used as pets, others are used to help\\nhumans do their work.', 'They are a popular pet because they\\nare usually playful, friendly, loyal and listen to humans.', 'Thirty million dogs in the United States are registered as\\npets.', 'Dogs eat both meat and vegetables, often mixed\\ntogether and sold in stores as dog food.', 'Dogs often have\\njobs, including as police dogs, army dogs, assistance dogs,\\nfire dogs, messenger dogs, hunting dogs, herding dogs, or\\nrescue dogs.', 'They are sometimes called \"canines\" from the Latin word for dog\\n- canis.', 'Sometimes people also use \"dog\" to describe other\\ncanids, such as wolves.', 'A baby dog is called a pup or puppy.', 'A dog is called a puppy until it is about one year old.', 'Dogs are sometimes referred to as \"man’s best friend\" because\\nthey are kept as domestic pets and are usually loyal and\\nlike being around humans.']\n"
     ]
    }
   ],
   "source": [
    "from nltk.tokenize import sent_tokenize\n",
    "text=\"\"\"Dogs ,Canis lupus familiaris, are domesticated mammals,\n",
    "not natural wild animals. They were originally bred from\n",
    "wolves. They have been bred by humans for a long time, and\n",
    "were the first animals ever to be domesticated.\n",
    "Today, some dogs are used as pets, others are used to help\n",
    "humans do their work. They are a popular pet because they\n",
    "are usually playful, friendly, loyal and listen to humans.\n",
    "Thirty million dogs in the United States are registered as\n",
    "pets. Dogs eat both meat and vegetables, often mixed\n",
    "together and sold in stores as dog food. Dogs often have\n",
    "jobs, including as police dogs, army dogs, assistance dogs,\n",
    "fire dogs, messenger dogs, hunting dogs, herding dogs, or\n",
    "rescue dogs.\n",
    "They are sometimes called \"canines\" from the Latin word for dog\n",
    "- canis. Sometimes people also use \"dog\" to describe other\n",
    "canids, such as wolves. A baby dog is called a pup or puppy.\n",
    "A dog is called a puppy until it is about one year old.\n",
    "Dogs are sometimes referred to as \"man’s best friend\" because\n",
    "they are kept as domestic pets and are usually loyal and\n",
    "like being around humans.\"\"\"\n",
    "tokenized_text=sent_tokenize(text)\n",
    "print(tokenized_text)"
   ]
  },
  {
   "cell_type": "code",
   "execution_count": 4,
   "id": "d8e0b0e3",
   "metadata": {},
   "outputs": [
    {
     "name": "stdout",
     "output_type": "stream",
     "text": [
      "13\n"
     ]
    }
   ],
   "source": [
    "print(len(tokenized_text))"
   ]
  },
  {
   "cell_type": "code",
   "execution_count": 5,
   "id": "b6a2cec0",
   "metadata": {},
   "outputs": [
    {
     "name": "stdout",
     "output_type": "stream",
     "text": [
      "They have been bred by humans for a long time, and\n",
      "were the first animals ever to be domesticated.\n"
     ]
    }
   ],
   "source": [
    "print(tokenized_text[2])"
   ]
  },
  {
   "cell_type": "markdown",
   "id": "25187d0b",
   "metadata": {},
   "source": [
    "Q: How many sentences in the paragraph?\n",
    "<br>\n",
    "A: 13 "
   ]
  },
  {
   "cell_type": "markdown",
   "id": "0d2c5687",
   "metadata": {},
   "source": [
    "Q: What is the third sentences in the paragraph?<br>\n",
    "A: They have been bred by humans for a long time, and were the first animals ever to be domesticated."
   ]
  },
  {
   "cell_type": "markdown",
   "id": "73507133",
   "metadata": {},
   "source": [
    "Word Tokenization"
   ]
  },
  {
   "cell_type": "code",
   "execution_count": 7,
   "id": "8e5e3ace",
   "metadata": {},
   "outputs": [
    {
     "name": "stdout",
     "output_type": "stream",
     "text": [
      "['Dogs', ',', 'Canis', 'lupus', 'familiaris', ',', 'are', 'domesticated', 'mammals', ',', 'not', 'natural', 'wild', 'animals', '.', 'They', 'were', 'originally', 'bred', 'from', 'wolves', '.', 'They', 'have', 'been', 'bred', 'by', 'humans', 'for', 'a', 'long', 'time', ',', 'and', 'were', 'the', 'first', 'animals', 'ever', 'to', 'be', 'domesticated', '.', 'Today', ',', 'some', 'dogs', 'are', 'used', 'as', 'pets', ',', 'others', 'are', 'used', 'to', 'help', 'humans', 'do', 'their', 'work', '.', 'They', 'are', 'a', 'popular', 'pet', 'because', 'they', 'are', 'usually', 'playful', ',', 'friendly', ',', 'loyal', 'and', 'listen', 'to', 'humans', '.', 'Thirty', 'million', 'dogs', 'in', 'the', 'United', 'States', 'are', 'registered', 'as', 'pets', '.', 'Dogs', 'eat', 'both', 'meat', 'and', 'vegetables', ',', 'often', 'mixed', 'together', 'and', 'sold', 'in', 'stores', 'as', 'dog', 'food', '.', 'Dogs', 'often', 'have', 'jobs', ',', 'including', 'as', 'police', 'dogs', ',', 'army', 'dogs', ',', 'assistance', 'dogs', ',', 'fire', 'dogs', ',', 'messenger', 'dogs', ',', 'hunting', 'dogs', ',', 'herding', 'dogs', ',', 'or', 'rescue', 'dogs', '.', 'They', 'are', 'sometimes', 'called', '``', 'canines', \"''\", 'from', 'the', 'Latin', 'word', 'for', 'dog', '-', 'canis', '.', 'Sometimes', 'people', 'also', 'use', '``', 'dog', \"''\", 'to', 'describe', 'other', 'canids', ',', 'such', 'as', 'wolves', '.', 'A', 'baby', 'dog', 'is', 'called', 'a', 'pup', 'or', 'puppy', '.', 'A', 'dog', 'is', 'called', 'a', 'puppy', 'until', 'it', 'is', 'about', 'one', 'year', 'old', '.', 'Dogs', 'are', 'sometimes', 'referred', 'to', 'as', '``', 'man', '’', 's', 'best', 'friend', \"''\", 'because', 'they', 'are', 'kept', 'as', 'domestic', 'pets', 'and', 'are', 'usually', 'loyal', 'and', 'like', 'being', 'around', 'humans', '.']\n"
     ]
    }
   ],
   "source": [
    "from nltk.tokenize import word_tokenize\n",
    "tokenized_word=word_tokenize(text)\n",
    "print(tokenized_word)"
   ]
  },
  {
   "cell_type": "code",
   "execution_count": 8,
   "id": "0fa98b49",
   "metadata": {},
   "outputs": [
    {
     "name": "stdout",
     "output_type": "stream",
     "text": [
      "229\n"
     ]
    }
   ],
   "source": [
    "print(len(tokenized_word))"
   ]
  },
  {
   "cell_type": "code",
   "execution_count": 9,
   "id": "1b5813e7",
   "metadata": {},
   "outputs": [
    {
     "name": "stdout",
     "output_type": "stream",
     "text": [
      "15\n"
     ]
    }
   ],
   "source": [
    "print(len(word_tokenize(tokenized_text[0])))"
   ]
  },
  {
   "cell_type": "code",
   "execution_count": 10,
   "id": "c45a0051",
   "metadata": {},
   "outputs": [
    {
     "name": "stdout",
     "output_type": "stream",
     "text": [
      "30\n"
     ]
    }
   ],
   "source": [
    "print(len(word_tokenize(tokenized_text[12])))"
   ]
  },
  {
   "cell_type": "markdown",
   "id": "64c3b1fa",
   "metadata": {},
   "source": [
    "Q: How many words in the paragraph?<br>\n",
    "A: 229"
   ]
  },
  {
   "cell_type": "markdown",
   "id": "bfd91213",
   "metadata": {},
   "source": [
    "Q: How many words in the first sentence?<br>\n",
    "A: 15"
   ]
  },
  {
   "cell_type": "markdown",
   "id": "abbf1a8d",
   "metadata": {},
   "source": [
    "Q: How many words in the last sentence?<br>\n",
    "A: 30"
   ]
  },
  {
   "cell_type": "markdown",
   "id": "11a2c1ff",
   "metadata": {},
   "source": [
    "Q: Do you find repeat words?<br>\n",
    "A: Yes"
   ]
  },
  {
   "cell_type": "markdown",
   "id": "b106b43e",
   "metadata": {},
   "source": [
    "# Frequency Distribution"
   ]
  },
  {
   "cell_type": "code",
   "execution_count": 13,
   "id": "4f517b41",
   "metadata": {},
   "outputs": [
    {
     "name": "stdout",
     "output_type": "stream",
     "text": [
      "<FreqDist with 120 samples and 229 outcomes>\n"
     ]
    }
   ],
   "source": [
    "from nltk.probability import FreqDist\n",
    "fdist = FreqDist(tokenized_word)\n",
    "print(fdist)"
   ]
  },
  {
   "cell_type": "markdown",
   "id": "8937a52b",
   "metadata": {},
   "source": [
    "Q: What is the output from print(fdist)?<br>\n",
    "A: FreqDist with 120 samples and 229 outcomes"
   ]
  },
  {
   "cell_type": "code",
   "execution_count": 16,
   "id": "6db08014",
   "metadata": {},
   "outputs": [
    {
     "data": {
      "text/plain": [
       "FreqDist({',': 18, '.': 13, 'are': 10, 'dogs': 10, 'as': 7, 'and': 6, 'to': 5, 'dog': 5, 'Dogs': 4, 'They': 4, ...})"
      ]
     },
     "execution_count": 16,
     "metadata": {},
     "output_type": "execute_result"
    }
   ],
   "source": [
    "fdist"
   ]
  },
  {
   "cell_type": "markdown",
   "id": "ac5dd6df",
   "metadata": {},
   "source": [
    "Q: How about the most common words?<br>\n",
    "A: ',' 18 times"
   ]
  },
  {
   "cell_type": "code",
   "execution_count": 17,
   "id": "23e3b63c",
   "metadata": {},
   "outputs": [
    {
     "data": {
      "text/plain": [
       "[(',', 18),\n",
       " ('.', 13),\n",
       " ('are', 10),\n",
       " ('dogs', 10),\n",
       " ('as', 7),\n",
       " ('and', 6),\n",
       " ('to', 5),\n",
       " ('dog', 5),\n",
       " ('Dogs', 4),\n",
       " ('They', 4)]"
      ]
     },
     "execution_count": 17,
     "metadata": {},
     "output_type": "execute_result"
    }
   ],
   "source": [
    "fdist.most_common(10)"
   ]
  },
  {
   "cell_type": "markdown",
   "id": "7577d47e",
   "metadata": {},
   "source": [
    "# Stopwords"
   ]
  },
  {
   "cell_type": "code",
   "execution_count": 18,
   "id": "c56c60af",
   "metadata": {},
   "outputs": [
    {
     "name": "stdout",
     "output_type": "stream",
     "text": [
      "{'himself', 'down', 'herself', 'doesn', 'all', 'few', \"couldn't\", 'itself', 'and', 'against', 'ain', 'his', 'she', 'him', 'too', 'their', 'didn', 'so', 'themselves', \"hadn't\", 'its', 'we', 'when', 'has', 'can', \"needn't\", 'that', 'isn', 'whom', 'mightn', 'where', 'yours', 'he', \"aren't\", \"didn't\", 'most', 'm', 'weren', 'y', 'with', 'not', 'hadn', 'at', 'our', 'out', 'only', 'off', 'shan', 'it', 'ours', 'had', 'hers', \"hasn't\", 'having', 'to', 'how', 'this', 'very', 'the', 'of', 'there', 'haven', 'theirs', 'couldn', 'shouldn', 'be', 's', 'wasn', 'same', 'why', 'needn', \"mightn't\", 'your', \"won't\", 'yourselves', 'am', 'does', 'mustn', \"don't\", 'yourself', 'then', 'who', 'up', 'more', 're', 'do', 'before', 'other', 'what', \"mustn't\", 'was', 'but', 'were', 'own', 'while', 'myself', 'these', 'both', 'will', \"you'll\", 'until', \"she's\", 'they', 'or', 'll', 'a', 'under', 'further', 'is', 'about', 'them', 'above', 'again', \"that'll\", 'should', \"shouldn't\", 'on', 'aren', 'hasn', 'just', 'doing', 'after', 'o', \"you'd\", 'than', \"should've\", 'did', 'don', 'during', 'been', 'any', 'no', \"you're\", 'i', 'nor', 'are', 'through', 'her', \"doesn't\", \"wasn't\", 'being', 'from', 'such', 'ourselves', \"weren't\", 'each', 'those', 'd', 'an', 'into', \"shan't\", 'me', 'here', 'because', 'have', 'some', 'you', 'between', 'over', 'wouldn', 've', 'by', 'if', 'once', 'in', 'below', 'won', 'my', \"wouldn't\", 'ma', 'for', \"you've\", 't', \"haven't\", 'as', \"it's\", 'which', 'now', \"isn't\"}\n"
     ]
    }
   ],
   "source": [
    "my_stopwords = [\"is\", \"a\", \"this\", \",\"]\n",
    "\n",
    "from nltk.corpus import stopwords\n",
    "nltk_stop_words=set(stopwords.words(\"english\"))\n",
    "print(nltk_stop_words)"
   ]
  },
  {
   "cell_type": "markdown",
   "id": "8e1d4665",
   "metadata": {},
   "source": [
    "# Removing Stopwords"
   ]
  },
  {
   "cell_type": "code",
   "execution_count": 19,
   "id": "8949c039",
   "metadata": {},
   "outputs": [
    {
     "name": "stdout",
     "output_type": "stream",
     "text": [
      "Tokenized Sentence: ['Dogs', ',', 'Canis', 'lupus', 'familiaris', ',', 'are', 'domesticated', 'mammals', ',', 'not', 'natural', 'wild', 'animals', '.', 'They', 'were', 'originally', 'bred', 'from', 'wolves', '.', 'They', 'have', 'been', 'bred', 'by', 'humans', 'for', 'a', 'long', 'time', ',', 'and', 'were', 'the', 'first', 'animals', 'ever', 'to', 'be', 'domesticated', '.', 'Today', ',', 'some', 'dogs', 'are', 'used', 'as', 'pets', ',', 'others', 'are', 'used', 'to', 'help', 'humans', 'do', 'their', 'work', '.', 'They', 'are', 'a', 'popular', 'pet', 'because', 'they', 'are', 'usually', 'playful', ',', 'friendly', ',', 'loyal', 'and', 'listen', 'to', 'humans', '.', 'Thirty', 'million', 'dogs', 'in', 'the', 'United', 'States', 'are', 'registered', 'as', 'pets', '.', 'Dogs', 'eat', 'both', 'meat', 'and', 'vegetables', ',', 'often', 'mixed', 'together', 'and', 'sold', 'in', 'stores', 'as', 'dog', 'food', '.', 'Dogs', 'often', 'have', 'jobs', ',', 'including', 'as', 'police', 'dogs', ',', 'army', 'dogs', ',', 'assistance', 'dogs', ',', 'fire', 'dogs', ',', 'messenger', 'dogs', ',', 'hunting', 'dogs', ',', 'herding', 'dogs', ',', 'or', 'rescue', 'dogs', '.', 'They', 'are', 'sometimes', 'called', '``', 'canines', \"''\", 'from', 'the', 'Latin', 'word', 'for', 'dog', '-', 'canis', '.', 'Sometimes', 'people', 'also', 'use', '``', 'dog', \"''\", 'to', 'describe', 'other', 'canids', ',', 'such', 'as', 'wolves', '.', 'A', 'baby', 'dog', 'is', 'called', 'a', 'pup', 'or', 'puppy', '.', 'A', 'dog', 'is', 'called', 'a', 'puppy', 'until', 'it', 'is', 'about', 'one', 'year', 'old', '.', 'Dogs', 'are', 'sometimes', 'referred', 'to', 'as', '``', 'man', '’', 's', 'best', 'friend', \"''\", 'because', 'they', 'are', 'kept', 'as', 'domestic', 'pets', 'and', 'are', 'usually', 'loyal', 'and', 'like', 'being', 'around', 'humans', '.']\n",
      "\n",
      "\n",
      "Filterd Sentence: ['Dogs', 'Canis', 'lupus', 'familiaris', 'are', 'domesticated', 'mammals', 'not', 'natural', 'wild', 'animals', '.', 'They', 'were', 'originally', 'bred', 'from', 'wolves', '.', 'They', 'have', 'been', 'bred', 'by', 'humans', 'for', 'long', 'time', 'and', 'were', 'the', 'first', 'animals', 'ever', 'to', 'be', 'domesticated', '.', 'Today', 'some', 'dogs', 'are', 'used', 'as', 'pets', 'others', 'are', 'used', 'to', 'help', 'humans', 'do', 'their', 'work', '.', 'They', 'are', 'popular', 'pet', 'because', 'they', 'are', 'usually', 'playful', 'friendly', 'loyal', 'and', 'listen', 'to', 'humans', '.', 'Thirty', 'million', 'dogs', 'in', 'the', 'United', 'States', 'are', 'registered', 'as', 'pets', '.', 'Dogs', 'eat', 'both', 'meat', 'and', 'vegetables', 'often', 'mixed', 'together', 'and', 'sold', 'in', 'stores', 'as', 'dog', 'food', '.', 'Dogs', 'often', 'have', 'jobs', 'including', 'as', 'police', 'dogs', 'army', 'dogs', 'assistance', 'dogs', 'fire', 'dogs', 'messenger', 'dogs', 'hunting', 'dogs', 'herding', 'dogs', 'or', 'rescue', 'dogs', '.', 'They', 'are', 'sometimes', 'called', '``', 'canines', \"''\", 'from', 'the', 'Latin', 'word', 'for', 'dog', '-', 'canis', '.', 'Sometimes', 'people', 'also', 'use', '``', 'dog', \"''\", 'to', 'describe', 'other', 'canids', 'such', 'as', 'wolves', '.', 'A', 'baby', 'dog', 'called', 'pup', 'or', 'puppy', '.', 'A', 'dog', 'called', 'puppy', 'until', 'it', 'about', 'one', 'year', 'old', '.', 'Dogs', 'are', 'sometimes', 'referred', 'to', 'as', '``', 'man', '’', 's', 'best', 'friend', \"''\", 'because', 'they', 'are', 'kept', 'as', 'domestic', 'pets', 'and', 'are', 'usually', 'loyal', 'and', 'like', 'being', 'around', 'humans', '.']\n"
     ]
    }
   ],
   "source": [
    "filtered_words=[]\n",
    "for w in tokenized_word:\n",
    "    if w not in my_stopwords:\n",
    "        filtered_words.append(w)\n",
    "print(\"Tokenized Sentence:\",tokenized_word)\n",
    "print(\"\\n\")\n",
    "print(\"Filterd Sentence:\",filtered_words)"
   ]
  },
  {
   "cell_type": "markdown",
   "id": "cd86ff4d",
   "metadata": {},
   "source": [
    "Q: Can you apply the stopwords provided by NLTK (nltk stop words) to your text?"
   ]
  },
  {
   "cell_type": "code",
   "execution_count": 20,
   "id": "51961738",
   "metadata": {},
   "outputs": [
    {
     "name": "stdout",
     "output_type": "stream",
     "text": [
      "Tokenized Sentence: ['Dogs', ',', 'Canis', 'lupus', 'familiaris', ',', 'are', 'domesticated', 'mammals', ',', 'not', 'natural', 'wild', 'animals', '.', 'They', 'were', 'originally', 'bred', 'from', 'wolves', '.', 'They', 'have', 'been', 'bred', 'by', 'humans', 'for', 'a', 'long', 'time', ',', 'and', 'were', 'the', 'first', 'animals', 'ever', 'to', 'be', 'domesticated', '.', 'Today', ',', 'some', 'dogs', 'are', 'used', 'as', 'pets', ',', 'others', 'are', 'used', 'to', 'help', 'humans', 'do', 'their', 'work', '.', 'They', 'are', 'a', 'popular', 'pet', 'because', 'they', 'are', 'usually', 'playful', ',', 'friendly', ',', 'loyal', 'and', 'listen', 'to', 'humans', '.', 'Thirty', 'million', 'dogs', 'in', 'the', 'United', 'States', 'are', 'registered', 'as', 'pets', '.', 'Dogs', 'eat', 'both', 'meat', 'and', 'vegetables', ',', 'often', 'mixed', 'together', 'and', 'sold', 'in', 'stores', 'as', 'dog', 'food', '.', 'Dogs', 'often', 'have', 'jobs', ',', 'including', 'as', 'police', 'dogs', ',', 'army', 'dogs', ',', 'assistance', 'dogs', ',', 'fire', 'dogs', ',', 'messenger', 'dogs', ',', 'hunting', 'dogs', ',', 'herding', 'dogs', ',', 'or', 'rescue', 'dogs', '.', 'They', 'are', 'sometimes', 'called', '``', 'canines', \"''\", 'from', 'the', 'Latin', 'word', 'for', 'dog', '-', 'canis', '.', 'Sometimes', 'people', 'also', 'use', '``', 'dog', \"''\", 'to', 'describe', 'other', 'canids', ',', 'such', 'as', 'wolves', '.', 'A', 'baby', 'dog', 'is', 'called', 'a', 'pup', 'or', 'puppy', '.', 'A', 'dog', 'is', 'called', 'a', 'puppy', 'until', 'it', 'is', 'about', 'one', 'year', 'old', '.', 'Dogs', 'are', 'sometimes', 'referred', 'to', 'as', '``', 'man', '’', 's', 'best', 'friend', \"''\", 'because', 'they', 'are', 'kept', 'as', 'domestic', 'pets', 'and', 'are', 'usually', 'loyal', 'and', 'like', 'being', 'around', 'humans', '.']\n",
      "\n",
      "\n",
      "Filterd Sentence: ['Dogs', ',', 'Canis', 'lupus', 'familiaris', ',', 'domesticated', 'mammals', ',', 'natural', 'wild', 'animals', '.', 'They', 'originally', 'bred', 'wolves', '.', 'They', 'bred', 'humans', 'long', 'time', ',', 'first', 'animals', 'ever', 'domesticated', '.', 'Today', ',', 'dogs', 'used', 'pets', ',', 'others', 'used', 'help', 'humans', 'work', '.', 'They', 'popular', 'pet', 'usually', 'playful', ',', 'friendly', ',', 'loyal', 'listen', 'humans', '.', 'Thirty', 'million', 'dogs', 'United', 'States', 'registered', 'pets', '.', 'Dogs', 'eat', 'meat', 'vegetables', ',', 'often', 'mixed', 'together', 'sold', 'stores', 'dog', 'food', '.', 'Dogs', 'often', 'jobs', ',', 'including', 'police', 'dogs', ',', 'army', 'dogs', ',', 'assistance', 'dogs', ',', 'fire', 'dogs', ',', 'messenger', 'dogs', ',', 'hunting', 'dogs', ',', 'herding', 'dogs', ',', 'rescue', 'dogs', '.', 'They', 'sometimes', 'called', '``', 'canines', \"''\", 'Latin', 'word', 'dog', '-', 'canis', '.', 'Sometimes', 'people', 'also', 'use', '``', 'dog', \"''\", 'describe', 'canids', ',', 'wolves', '.', 'A', 'baby', 'dog', 'called', 'pup', 'puppy', '.', 'A', 'dog', 'called', 'puppy', 'one', 'year', 'old', '.', 'Dogs', 'sometimes', 'referred', '``', 'man', '’', 'best', 'friend', \"''\", 'kept', 'domestic', 'pets', 'usually', 'loyal', 'like', 'around', 'humans', '.']\n"
     ]
    }
   ],
   "source": [
    "filtered_words=[]\n",
    "for w in tokenized_word:\n",
    "    if w not in nltk_stop_words:\n",
    "        filtered_words.append(w)\n",
    "print(\"Tokenized Sentence:\",tokenized_word)\n",
    "print(\"\\n\")\n",
    "print(\"Filterd Sentence:\",filtered_words)"
   ]
  },
  {
   "cell_type": "markdown",
   "id": "fd9842f2",
   "metadata": {},
   "source": [
    "# Lexicon Normalization"
   ]
  },
  {
   "cell_type": "markdown",
   "id": "535d5ab2",
   "metadata": {},
   "source": [
    "Q: What is the output?<br>\n",
    "A: connect"
   ]
  },
  {
   "cell_type": "code",
   "execution_count": 22,
   "id": "d8601352",
   "metadata": {},
   "outputs": [
    {
     "data": {
      "text/plain": [
       "'connect'"
      ]
     },
     "execution_count": 22,
     "metadata": {},
     "output_type": "execute_result"
    }
   ],
   "source": [
    "from nltk.stem import PorterStemmer\n",
    "stem = PorterStemmer()\n",
    "word = \"connection\"\n",
    "stem.stem(word)"
   ]
  },
  {
   "cell_type": "markdown",
   "id": "693dab43",
   "metadata": {},
   "source": [
    "Q: Can you try some other words such as derivational, multiplying?<br>\n",
    "A: deriv , multipli"
   ]
  },
  {
   "cell_type": "code",
   "execution_count": 23,
   "id": "c48a2e17",
   "metadata": {},
   "outputs": [
    {
     "data": {
      "text/plain": [
       "'deriv'"
      ]
     },
     "execution_count": 23,
     "metadata": {},
     "output_type": "execute_result"
    }
   ],
   "source": [
    "word1 = \"derivational\"\n",
    "stem.stem(word1)"
   ]
  },
  {
   "cell_type": "code",
   "execution_count": 24,
   "id": "e961a9bc",
   "metadata": {},
   "outputs": [
    {
     "data": {
      "text/plain": [
       "'multipli'"
      ]
     },
     "execution_count": 24,
     "metadata": {},
     "output_type": "execute_result"
    }
   ],
   "source": [
    "word2 = \"multiplying\"\n",
    "stem.stem(word2)"
   ]
  },
  {
   "cell_type": "markdown",
   "id": "bc4d945d",
   "metadata": {},
   "source": [
    "# Lemmatization"
   ]
  },
  {
   "cell_type": "markdown",
   "id": "a6134af5",
   "metadata": {},
   "source": [
    "Q: What is the output?"
   ]
  },
  {
   "cell_type": "code",
   "execution_count": 25,
   "id": "46dbe123",
   "metadata": {},
   "outputs": [
    {
     "name": "stdout",
     "output_type": "stream",
     "text": [
      "Filtered Words: ['Dogs', ',', 'Canis', 'lupus', 'familiaris', ',', 'domesticated', 'mammals', ',', 'natural', 'wild', 'animals', '.', 'They', 'originally', 'bred', 'wolves', '.', 'They', 'bred', 'humans', 'long', 'time', ',', 'first', 'animals', 'ever', 'domesticated', '.', 'Today', ',', 'dogs', 'used', 'pets', ',', 'others', 'used', 'help', 'humans', 'work', '.', 'They', 'popular', 'pet', 'usually', 'playful', ',', 'friendly', ',', 'loyal', 'listen', 'humans', '.', 'Thirty', 'million', 'dogs', 'United', 'States', 'registered', 'pets', '.', 'Dogs', 'eat', 'meat', 'vegetables', ',', 'often', 'mixed', 'together', 'sold', 'stores', 'dog', 'food', '.', 'Dogs', 'often', 'jobs', ',', 'including', 'police', 'dogs', ',', 'army', 'dogs', ',', 'assistance', 'dogs', ',', 'fire', 'dogs', ',', 'messenger', 'dogs', ',', 'hunting', 'dogs', ',', 'herding', 'dogs', ',', 'rescue', 'dogs', '.', 'They', 'sometimes', 'called', '``', 'canines', \"''\", 'Latin', 'word', 'dog', '-', 'canis', '.', 'Sometimes', 'people', 'also', 'use', '``', 'dog', \"''\", 'describe', 'canids', ',', 'wolves', '.', 'A', 'baby', 'dog', 'called', 'pup', 'puppy', '.', 'A', 'dog', 'called', 'puppy', 'one', 'year', 'old', '.', 'Dogs', 'sometimes', 'referred', '``', 'man', '’', 'best', 'friend', \"''\", 'kept', 'domestic', 'pets', 'usually', 'loyal', 'like', 'around', 'humans', '.']\n",
      "\n",
      "\n",
      "Stemmed Words: ['dog', ',', 'cani', 'lupu', 'familiari', ',', 'domest', 'mammal', ',', 'natur', 'wild', 'anim', '.', 'they', 'origin', 'bred', 'wolv', '.', 'they', 'bred', 'human', 'long', 'time', ',', 'first', 'anim', 'ever', 'domest', '.', 'today', ',', 'dog', 'use', 'pet', ',', 'other', 'use', 'help', 'human', 'work', '.', 'they', 'popular', 'pet', 'usual', 'play', ',', 'friendli', ',', 'loyal', 'listen', 'human', '.', 'thirti', 'million', 'dog', 'unit', 'state', 'regist', 'pet', '.', 'dog', 'eat', 'meat', 'veget', ',', 'often', 'mix', 'togeth', 'sold', 'store', 'dog', 'food', '.', 'dog', 'often', 'job', ',', 'includ', 'polic', 'dog', ',', 'armi', 'dog', ',', 'assist', 'dog', ',', 'fire', 'dog', ',', 'messeng', 'dog', ',', 'hunt', 'dog', ',', 'herd', 'dog', ',', 'rescu', 'dog', '.', 'they', 'sometim', 'call', '``', 'canin', \"''\", 'latin', 'word', 'dog', '-', 'cani', '.', 'sometim', 'peopl', 'also', 'use', '``', 'dog', \"''\", 'describ', 'canid', ',', 'wolv', '.', 'a', 'babi', 'dog', 'call', 'pup', 'puppi', '.', 'a', 'dog', 'call', 'puppi', 'one', 'year', 'old', '.', 'dog', 'sometim', 'refer', '``', 'man', '’', 'best', 'friend', \"''\", 'kept', 'domest', 'pet', 'usual', 'loyal', 'like', 'around', 'human', '.']\n"
     ]
    }
   ],
   "source": [
    "from nltk.stem import PorterStemmer\n",
    "stem = PorterStemmer()\n",
    "stemmed_words=[]\n",
    "for w in filtered_words:\n",
    "    stemmed_words.append(stem.stem(w))\n",
    "print(\"Filtered Words:\",filtered_words)\n",
    "print(\"\\n\")\n",
    "print(\"Stemmed Words:\",stemmed_words)"
   ]
  },
  {
   "cell_type": "code",
   "execution_count": 26,
   "id": "e8fb6810",
   "metadata": {},
   "outputs": [
    {
     "data": {
      "text/plain": [
       "'connect'"
      ]
     },
     "execution_count": 26,
     "metadata": {},
     "output_type": "execute_result"
    }
   ],
   "source": [
    "from nltk.stem.wordnet import WordNetLemmatizer\n",
    "lem = WordNetLemmatizer()\n",
    "word = \"connecting\"\n",
    "lem.lemmatize(word, pos=\"v\")"
   ]
  },
  {
   "cell_type": "markdown",
   "id": "8430d72c",
   "metadata": {},
   "source": [
    "Note that pos is a part of speech parameter. Let’s change pos to see the result."
   ]
  },
  {
   "cell_type": "code",
   "execution_count": 27,
   "id": "97421198",
   "metadata": {},
   "outputs": [
    {
     "name": "stdout",
     "output_type": "stream",
     "text": [
      "fly\n",
      "flying\n"
     ]
    }
   ],
   "source": [
    "from nltk.stem.wordnet import WordNetLemmatizer\n",
    "lem = WordNetLemmatizer()\n",
    "word = \"flying\"\n",
    "print(lem.lemmatize(word, pos=\"v\"))\n",
    "print(lem.lemmatize(word, pos=\"n\"))"
   ]
  },
  {
   "cell_type": "markdown",
   "id": "5010fc1f",
   "metadata": {},
   "source": [
    "Q: What is the different between using v and n?<br>\n",
    "A: v = verb and n = noun"
   ]
  },
  {
   "cell_type": "markdown",
   "id": "333776a9",
   "metadata": {},
   "source": [
    "# POS Tagging"
   ]
  },
  {
   "cell_type": "code",
   "execution_count": 28,
   "id": "ed90a752",
   "metadata": {},
   "outputs": [
    {
     "name": "stdout",
     "output_type": "stream",
     "text": [
      "['I', 'am', 'studying', 'at', 'ICT']\n"
     ]
    },
    {
     "data": {
      "text/plain": [
       "[('I', 'PRP'),\n",
       " ('am', 'VBP'),\n",
       " ('studying', 'VBG'),\n",
       " ('at', 'IN'),\n",
       " ('ICT', 'NNP')]"
      ]
     },
     "execution_count": 28,
     "metadata": {},
     "output_type": "execute_result"
    }
   ],
   "source": [
    "sent = \"I am studying at ICT\"\n",
    "tokens=nltk.word_tokenize(sent)\n",
    "print(tokens)\n",
    "nltk.pos_tag(tokens)"
   ]
  },
  {
   "cell_type": "markdown",
   "id": "a290b44a",
   "metadata": {},
   "source": [
    "Q: Can you try to interpret the result?<br>\n",
    "A: PRP = Personal pronoun<br>\n",
    "   VBP = Verb, non-3rd person singular present<br>\n",
    "   VBG = Verb, gerund or present participle<br> \n",
    "   IN = Preposition or subordinating conjunction<br> \n",
    "   NNP = Proper noun, singular<br>"
   ]
  },
  {
   "cell_type": "code",
   "execution_count": null,
   "id": "d49c137d",
   "metadata": {},
   "outputs": [],
   "source": []
  }
 ],
 "metadata": {
  "kernelspec": {
   "display_name": "Python 3",
   "language": "python",
   "name": "python3"
  },
  "language_info": {
   "codemirror_mode": {
    "name": "ipython",
    "version": 3
   },
   "file_extension": ".py",
   "mimetype": "text/x-python",
   "name": "python",
   "nbconvert_exporter": "python",
   "pygments_lexer": "ipython3",
   "version": "3.8.8"
  }
 },
 "nbformat": 4,
 "nbformat_minor": 5
}
