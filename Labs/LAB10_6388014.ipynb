{
 "cells": [
  {
   "cell_type": "markdown",
   "id": "fef3d1ef",
   "metadata": {},
   "source": [
    "**Excercise 1 Make sure that all Python environment in your computer was\n",
    "installed successfully.**"
   ]
  },
  {
   "cell_type": "code",
   "execution_count": 1,
   "id": "3100155b",
   "metadata": {},
   "outputs": [
    {
     "name": "stdout",
     "output_type": "stream",
     "text": [
      "Python: 3.8.8 (default, Apr 13 2021, 15:08:03) [MSC v.1916 64 bit (AMD64)]\n",
      "scipy: 1.6.2\n",
      "numpy: 1.20.1\n",
      "matplotlib: 3.3.4\n",
      "pandas: 1.2.4\n",
      "sklearn: 0.24.1\n"
     ]
    }
   ],
   "source": [
    "import sys\n",
    "import scipy\n",
    "import numpy\n",
    "import matplotlib\n",
    "import pandas\n",
    "import sklearn\n",
    "print('Python: {}'.format(sys.version))\n",
    "print('scipy: {}'.format( scipy.__version__))\n",
    "print('numpy: {}'.format( numpy.__version__))\n",
    "print('matplotlib: {}'.format( matplotlib.__version__ ))\n",
    "print('pandas: {}'.format( pandas.__version__ ))\n",
    "print('sklearn: {}'.format( sklearn.__version__))"
   ]
  },
  {
   "cell_type": "markdown",
   "id": "d33db0d2",
   "metadata": {},
   "source": [
    "**Exercise 2) Once everything ready, Then, load all the important library:**"
   ]
  },
  {
   "cell_type": "code",
   "execution_count": 4,
   "id": "c91ecdb9",
   "metadata": {},
   "outputs": [],
   "source": [
    "import pandas\n",
    "from pandas . plotting import scatter_matrix\n",
    "import matplotlib . pyplot as plt\n",
    "from sklearn import model_selection\n",
    "from sklearn . cluster import KMeans"
   ]
  },
  {
   "cell_type": "markdown",
   "id": "1f592045",
   "metadata": {},
   "source": [
    "**Exercise 3) Next, load the iris dataset from file. Please ensure that the\n",
    "download file named ’iris.data’ is located in the same folder as the python file**"
   ]
  },
  {
   "cell_type": "code",
   "execution_count": 5,
   "id": "3c1008fd",
   "metadata": {},
   "outputs": [
    {
     "name": "stdout",
     "output_type": "stream",
     "text": [
      "     sepal - length   epal - width   etal - length   etal - width   \\\n",
      "0                5.1            3.5             1.4            0.2   \n",
      "1                4.9            3.0             1.4            0.2   \n",
      "2                4.7            3.2             1.3            0.2   \n",
      "3                4.6            3.1             1.5            0.2   \n",
      "4                5.0            3.6             1.4            0.2   \n",
      "..               ...            ...             ...            ...   \n",
      "145              6.7            3.0             5.2            2.3   \n",
      "146              6.3            2.5             5.0            1.9   \n",
      "147              6.5            3.0             5.2            2.0   \n",
      "148              6.2            3.4             5.4            2.3   \n",
      "149              5.9            3.0             5.1            1.8   \n",
      "\n",
      "              lass   \n",
      "0       Iris-setosa  \n",
      "1       Iris-setosa  \n",
      "2       Iris-setosa  \n",
      "3       Iris-setosa  \n",
      "4       Iris-setosa  \n",
      "..              ...  \n",
      "145  Iris-virginica  \n",
      "146  Iris-virginica  \n",
      "147  Iris-virginica  \n",
      "148  Iris-virginica  \n",
      "149  Iris-virginica  \n",
      "\n",
      "[150 rows x 5 columns]\n"
     ]
    }
   ],
   "source": [
    "names = ['sepal - length ', 'epal - width ', 'etal - length ', 'etal - width ', 'lass ']\n",
    "ds = pandas . read_csv ('iris.data ', names = names )\n",
    "print(ds)\n",
    "#Display the dataset ’ds’, how it look like?\n",
    "#Answer ds show data set"
   ]
  },
  {
   "cell_type": "markdown",
   "id": "b9454ec8",
   "metadata": {},
   "source": [
    "**Exercise 4) Next step is to slicing the dataset based on features of iris flower.**"
   ]
  },
  {
   "cell_type": "code",
   "execution_count": 8,
   "id": "37360178",
   "metadata": {},
   "outputs": [
    {
     "name": "stdout",
     "output_type": "stream",
     "text": [
      "[[5.1 3.5 1.4 0.2]\n",
      " [4.9 3.0 1.4 0.2]\n",
      " [4.7 3.2 1.3 0.2]\n",
      " [4.6 3.1 1.5 0.2]\n",
      " [5.0 3.6 1.4 0.2]\n",
      " [5.4 3.9 1.7 0.4]\n",
      " [4.6 3.4 1.4 0.3]\n",
      " [5.0 3.4 1.5 0.2]\n",
      " [4.4 2.9 1.4 0.2]\n",
      " [4.9 3.1 1.5 0.1]\n",
      " [5.4 3.7 1.5 0.2]\n",
      " [4.8 3.4 1.6 0.2]\n",
      " [4.8 3.0 1.4 0.1]\n",
      " [4.3 3.0 1.1 0.1]\n",
      " [5.8 4.0 1.2 0.2]\n",
      " [5.7 4.4 1.5 0.4]\n",
      " [5.4 3.9 1.3 0.4]\n",
      " [5.1 3.5 1.4 0.3]\n",
      " [5.7 3.8 1.7 0.3]\n",
      " [5.1 3.8 1.5 0.3]\n",
      " [5.4 3.4 1.7 0.2]\n",
      " [5.1 3.7 1.5 0.4]\n",
      " [4.6 3.6 1.0 0.2]\n",
      " [5.1 3.3 1.7 0.5]\n",
      " [4.8 3.4 1.9 0.2]\n",
      " [5.0 3.0 1.6 0.2]\n",
      " [5.0 3.4 1.6 0.4]\n",
      " [5.2 3.5 1.5 0.2]\n",
      " [5.2 3.4 1.4 0.2]\n",
      " [4.7 3.2 1.6 0.2]\n",
      " [4.8 3.1 1.6 0.2]\n",
      " [5.4 3.4 1.5 0.4]\n",
      " [5.2 4.1 1.5 0.1]\n",
      " [5.5 4.2 1.4 0.2]\n",
      " [4.9 3.1 1.5 0.1]\n",
      " [5.0 3.2 1.2 0.2]\n",
      " [5.5 3.5 1.3 0.2]\n",
      " [4.9 3.1 1.5 0.1]\n",
      " [4.4 3.0 1.3 0.2]\n",
      " [5.1 3.4 1.5 0.2]\n",
      " [5.0 3.5 1.3 0.3]\n",
      " [4.5 2.3 1.3 0.3]\n",
      " [4.4 3.2 1.3 0.2]\n",
      " [5.0 3.5 1.6 0.6]\n",
      " [5.1 3.8 1.9 0.4]\n",
      " [4.8 3.0 1.4 0.3]\n",
      " [5.1 3.8 1.6 0.2]\n",
      " [4.6 3.2 1.4 0.2]\n",
      " [5.3 3.7 1.5 0.2]\n",
      " [5.0 3.3 1.4 0.2]\n",
      " [7.0 3.2 4.7 1.4]\n",
      " [6.4 3.2 4.5 1.5]\n",
      " [6.9 3.1 4.9 1.5]\n",
      " [5.5 2.3 4.0 1.3]\n",
      " [6.5 2.8 4.6 1.5]\n",
      " [5.7 2.8 4.5 1.3]\n",
      " [6.3 3.3 4.7 1.6]\n",
      " [4.9 2.4 3.3 1.0]\n",
      " [6.6 2.9 4.6 1.3]\n",
      " [5.2 2.7 3.9 1.4]\n",
      " [5.0 2.0 3.5 1.0]\n",
      " [5.9 3.0 4.2 1.5]\n",
      " [6.0 2.2 4.0 1.0]\n",
      " [6.1 2.9 4.7 1.4]\n",
      " [5.6 2.9 3.6 1.3]\n",
      " [6.7 3.1 4.4 1.4]\n",
      " [5.6 3.0 4.5 1.5]\n",
      " [5.8 2.7 4.1 1.0]\n",
      " [6.2 2.2 4.5 1.5]\n",
      " [5.6 2.5 3.9 1.1]\n",
      " [5.9 3.2 4.8 1.8]\n",
      " [6.1 2.8 4.0 1.3]\n",
      " [6.3 2.5 4.9 1.5]\n",
      " [6.1 2.8 4.7 1.2]\n",
      " [6.4 2.9 4.3 1.3]\n",
      " [6.6 3.0 4.4 1.4]\n",
      " [6.8 2.8 4.8 1.4]\n",
      " [6.7 3.0 5.0 1.7]\n",
      " [6.0 2.9 4.5 1.5]\n",
      " [5.7 2.6 3.5 1.0]\n",
      " [5.5 2.4 3.8 1.1]\n",
      " [5.5 2.4 3.7 1.0]\n",
      " [5.8 2.7 3.9 1.2]\n",
      " [6.0 2.7 5.1 1.6]\n",
      " [5.4 3.0 4.5 1.5]\n",
      " [6.0 3.4 4.5 1.6]\n",
      " [6.7 3.1 4.7 1.5]\n",
      " [6.3 2.3 4.4 1.3]\n",
      " [5.6 3.0 4.1 1.3]\n",
      " [5.5 2.5 4.0 1.3]\n",
      " [5.5 2.6 4.4 1.2]\n",
      " [6.1 3.0 4.6 1.4]\n",
      " [5.8 2.6 4.0 1.2]\n",
      " [5.0 2.3 3.3 1.0]\n",
      " [5.6 2.7 4.2 1.3]\n",
      " [5.7 3.0 4.2 1.2]\n",
      " [5.7 2.9 4.2 1.3]\n",
      " [6.2 2.9 4.3 1.3]\n",
      " [5.1 2.5 3.0 1.1]\n",
      " [5.7 2.8 4.1 1.3]\n",
      " [6.3 3.3 6.0 2.5]\n",
      " [5.8 2.7 5.1 1.9]\n",
      " [7.1 3.0 5.9 2.1]\n",
      " [6.3 2.9 5.6 1.8]\n",
      " [6.5 3.0 5.8 2.2]\n",
      " [7.6 3.0 6.6 2.1]\n",
      " [4.9 2.5 4.5 1.7]\n",
      " [7.3 2.9 6.3 1.8]\n",
      " [6.7 2.5 5.8 1.8]\n",
      " [7.2 3.6 6.1 2.5]\n",
      " [6.5 3.2 5.1 2.0]\n",
      " [6.4 2.7 5.3 1.9]\n",
      " [6.8 3.0 5.5 2.1]\n",
      " [5.7 2.5 5.0 2.0]\n",
      " [5.8 2.8 5.1 2.4]\n",
      " [6.4 3.2 5.3 2.3]\n",
      " [6.5 3.0 5.5 1.8]\n",
      " [7.7 3.8 6.7 2.2]\n",
      " [7.7 2.6 6.9 2.3]\n",
      " [6.0 2.2 5.0 1.5]\n",
      " [6.9 3.2 5.7 2.3]\n",
      " [5.6 2.8 4.9 2.0]\n",
      " [7.7 2.8 6.7 2.0]\n",
      " [6.3 2.7 4.9 1.8]\n",
      " [6.7 3.3 5.7 2.1]\n",
      " [7.2 3.2 6.0 1.8]\n",
      " [6.2 2.8 4.8 1.8]\n",
      " [6.1 3.0 4.9 1.8]\n",
      " [6.4 2.8 5.6 2.1]\n",
      " [7.2 3.0 5.8 1.6]\n",
      " [7.4 2.8 6.1 1.9]\n",
      " [7.9 3.8 6.4 2.0]\n",
      " [6.4 2.8 5.6 2.2]\n",
      " [6.3 2.8 5.1 1.5]\n",
      " [6.1 2.6 5.6 1.4]\n",
      " [7.7 3.0 6.1 2.3]\n",
      " [6.3 3.4 5.6 2.4]\n",
      " [6.4 3.1 5.5 1.8]\n",
      " [6.0 3.0 4.8 1.8]\n",
      " [6.9 3.1 5.4 2.1]\n",
      " [6.7 3.1 5.6 2.4]\n",
      " [6.9 3.1 5.1 2.3]\n",
      " [5.8 2.7 5.1 1.9]\n",
      " [6.8 3.2 5.9 2.3]\n",
      " [6.7 3.3 5.7 2.5]\n",
      " [6.7 3.0 5.2 2.3]\n",
      " [6.3 2.5 5.0 1.9]\n",
      " [6.5 3.0 5.2 2.0]\n",
      " [6.2 3.4 5.4 2.3]\n",
      " [5.9 3.0 5.1 1.8]]\n"
     ]
    }
   ],
   "source": [
    "array = ds. values\n",
    "X = array [: ,0:4]\n",
    "Y = array [: ,4]\n",
    "print(X)\n",
    "#col 0 to 3 in iris.data"
   ]
  },
  {
   "cell_type": "code",
   "execution_count": 9,
   "id": "b578a9b7",
   "metadata": {},
   "outputs": [
    {
     "name": "stdout",
     "output_type": "stream",
     "text": [
      "['Iris-setosa' 'Iris-setosa' 'Iris-setosa' 'Iris-setosa' 'Iris-setosa'\n",
      " 'Iris-setosa' 'Iris-setosa' 'Iris-setosa' 'Iris-setosa' 'Iris-setosa'\n",
      " 'Iris-setosa' 'Iris-setosa' 'Iris-setosa' 'Iris-setosa' 'Iris-setosa'\n",
      " 'Iris-setosa' 'Iris-setosa' 'Iris-setosa' 'Iris-setosa' 'Iris-setosa'\n",
      " 'Iris-setosa' 'Iris-setosa' 'Iris-setosa' 'Iris-setosa' 'Iris-setosa'\n",
      " 'Iris-setosa' 'Iris-setosa' 'Iris-setosa' 'Iris-setosa' 'Iris-setosa'\n",
      " 'Iris-setosa' 'Iris-setosa' 'Iris-setosa' 'Iris-setosa' 'Iris-setosa'\n",
      " 'Iris-setosa' 'Iris-setosa' 'Iris-setosa' 'Iris-setosa' 'Iris-setosa'\n",
      " 'Iris-setosa' 'Iris-setosa' 'Iris-setosa' 'Iris-setosa' 'Iris-setosa'\n",
      " 'Iris-setosa' 'Iris-setosa' 'Iris-setosa' 'Iris-setosa' 'Iris-setosa'\n",
      " 'Iris-versicolor' 'Iris-versicolor' 'Iris-versicolor' 'Iris-versicolor'\n",
      " 'Iris-versicolor' 'Iris-versicolor' 'Iris-versicolor' 'Iris-versicolor'\n",
      " 'Iris-versicolor' 'Iris-versicolor' 'Iris-versicolor' 'Iris-versicolor'\n",
      " 'Iris-versicolor' 'Iris-versicolor' 'Iris-versicolor' 'Iris-versicolor'\n",
      " 'Iris-versicolor' 'Iris-versicolor' 'Iris-versicolor' 'Iris-versicolor'\n",
      " 'Iris-versicolor' 'Iris-versicolor' 'Iris-versicolor' 'Iris-versicolor'\n",
      " 'Iris-versicolor' 'Iris-versicolor' 'Iris-versicolor' 'Iris-versicolor'\n",
      " 'Iris-versicolor' 'Iris-versicolor' 'Iris-versicolor' 'Iris-versicolor'\n",
      " 'Iris-versicolor' 'Iris-versicolor' 'Iris-versicolor' 'Iris-versicolor'\n",
      " 'Iris-versicolor' 'Iris-versicolor' 'Iris-versicolor' 'Iris-versicolor'\n",
      " 'Iris-versicolor' 'Iris-versicolor' 'Iris-versicolor' 'Iris-versicolor'\n",
      " 'Iris-versicolor' 'Iris-versicolor' 'Iris-versicolor' 'Iris-versicolor'\n",
      " 'Iris-versicolor' 'Iris-versicolor' 'Iris-virginica' 'Iris-virginica'\n",
      " 'Iris-virginica' 'Iris-virginica' 'Iris-virginica' 'Iris-virginica'\n",
      " 'Iris-virginica' 'Iris-virginica' 'Iris-virginica' 'Iris-virginica'\n",
      " 'Iris-virginica' 'Iris-virginica' 'Iris-virginica' 'Iris-virginica'\n",
      " 'Iris-virginica' 'Iris-virginica' 'Iris-virginica' 'Iris-virginica'\n",
      " 'Iris-virginica' 'Iris-virginica' 'Iris-virginica' 'Iris-virginica'\n",
      " 'Iris-virginica' 'Iris-virginica' 'Iris-virginica' 'Iris-virginica'\n",
      " 'Iris-virginica' 'Iris-virginica' 'Iris-virginica' 'Iris-virginica'\n",
      " 'Iris-virginica' 'Iris-virginica' 'Iris-virginica' 'Iris-virginica'\n",
      " 'Iris-virginica' 'Iris-virginica' 'Iris-virginica' 'Iris-virginica'\n",
      " 'Iris-virginica' 'Iris-virginica' 'Iris-virginica' 'Iris-virginica'\n",
      " 'Iris-virginica' 'Iris-virginica' 'Iris-virginica' 'Iris-virginica'\n",
      " 'Iris-virginica' 'Iris-virginica' 'Iris-virginica' 'Iris-virginica']\n"
     ]
    }
   ],
   "source": [
    "print(Y)"
   ]
  },
  {
   "cell_type": "markdown",
   "id": "18f199e0",
   "metadata": {},
   "source": [
    "**Exercise 5) Next create the scatter plot of x=Sepal length and y=Petal\n",
    "length.**"
   ]
  },
  {
   "cell_type": "code",
   "execution_count": 10,
   "id": "1e84f1fe",
   "metadata": {},
   "outputs": [
    {
     "data": {
      "text/plain": [
       "<matplotlib.collections.PathCollection at 0x1c44ad25fd0>"
      ]
     },
     "execution_count": 10,
     "metadata": {},
     "output_type": "execute_result"
    },
    {
     "data": {
      "image/png": "[encoded data removed]",
      "text/plain": [
       "<Figure size 432x288 with 1 Axes>"
      ]
     },
     "metadata": {
      "needs_background": "light"
     },
     "output_type": "display_data"
    }
   ],
   "source": [
    "plt.scatter(X[: ,0],X[: ,2])\n",
    "#Do you see any pattern here?\n",
    "#Answer No, because this plot is X(n,0),X(n,2)"
   ]
  },
  {
   "cell_type": "markdown",
   "id": "e2b54ca0",
   "metadata": {},
   "source": [
    "**Exercise 6) Try to create another scatter plot of x=Sepal width and y=Petal\n",
    "width. What are the outputs?**"
   ]
  },
  {
   "cell_type": "code",
   "execution_count": 15,
   "id": "2e869b7f",
   "metadata": {},
   "outputs": [
    {
     "data": {
      "text/plain": [
       "<matplotlib.collections.PathCollection at 0x1c44ae5ba60>"
      ]
     },
     "execution_count": 15,
     "metadata": {},
     "output_type": "execute_result"
    },
    {
     "data": {
      "image/png": "[encoded data removed]",
      "text/plain": [
       "<Figure size 432x288 with 1 Axes>"
      ]
     },
     "metadata": {
      "needs_background": "light"
     },
     "output_type": "display_data"
    }
   ],
   "source": [
    "plt.scatter(X[: ,2],X[: ,3])"
   ]
  },
  {
   "cell_type": "markdown",
   "id": "76e300c7",
   "metadata": {},
   "source": [
    "**Exercise 7) specify number of clusters. In this dataset we set cluster=3\n",
    "because we know that there are 3 species of iris flowers. Then fit the model to\n",
    "create cluster of the dataset.**"
   ]
  },
  {
   "cell_type": "code",
   "execution_count": 16,
   "id": "b4b3d890",
   "metadata": {},
   "outputs": [
    {
     "data": {
      "text/plain": [
       "KMeans(n_clusters=3)"
      ]
     },
     "execution_count": 16,
     "metadata": {},
     "output_type": "execute_result"
    }
   ],
   "source": [
    "model = KMeans( n_clusters =3)\n",
    "model.fit(X)"
   ]
  },
  {
   "cell_type": "markdown",
   "id": "324a6f36",
   "metadata": {},
   "source": [
    "**Exercise 8) Try to predict the iris dataset on the fitted model.**"
   ]
  },
  {
   "cell_type": "code",
   "execution_count": 19,
   "id": "70b6d25b",
   "metadata": {},
   "outputs": [
    {
     "name": "stdout",
     "output_type": "stream",
     "text": [
      "[0 0 0 0 0 0 0 0 0 0 0 0 0 0 0 0 0 0 0 0 0 0 0 0 0 0 0 0 0 0 0 0 0 0 0 0 0\n",
      " 0 0 0 0 0 0 0 0 0 0 0 0 0 1 1 2 1 1 1 1 1 1 1 1 1 1 1 1 1 1 1 1 1 1 1 1 1\n",
      " 1 1 1 2 1 1 1 1 1 1 1 1 1 1 1 1 1 1 1 1 1 1 1 1 1 1 2 1 2 2 2 2 1 2 2 2 2\n",
      " 2 2 1 1 2 2 2 2 1 2 1 2 1 2 2 1 1 2 2 2 2 2 1 2 2 2 2 1 2 2 2 1 2 2 2 1 2\n",
      " 2 1]\n"
     ]
    }
   ],
   "source": [
    "labels = model.predict(X)\n",
    "print(labels)\n",
    "#What are the output? Do you see any useful information now?\n",
    "#Yes, It is predict groups of number."
   ]
  },
  {
   "cell_type": "markdown",
   "id": "89d8af3e",
   "metadata": {},
   "source": [
    "**Exercise 9) Using knowledge from week8 to plot the scatter plot between\n",
    "sepal length and petal length.**"
   ]
  },
  {
   "cell_type": "code",
   "execution_count": 21,
   "id": "b4c2691d",
   "metadata": {},
   "outputs": [
    {
     "data": {
      "text/plain": [
       "Text(0, 0.5, 'petal length')"
      ]
     },
     "execution_count": 21,
     "metadata": {},
     "output_type": "execute_result"
    },
    {
     "data": {
      "image/png": "[encoded data removed]",
      "text/plain": [
       "<Figure size 1080x576 with 2 Axes>"
      ]
     },
     "metadata": {
      "needs_background": "light"
     },
     "output_type": "display_data"
    }
   ],
   "source": [
    "fig = plt.figure(figsize = (15,8))\n",
    "fig1 = fig.add_subplot(121)\n",
    "fig2 = fig.add_subplot(122)\n",
    "\n",
    "fig1.set_title ('Unclustered Data')\n",
    "fig2.set_title ('Clustered Dat')\n",
    "\n",
    "fig1.scatter(X[: ,0] , X [: ,2])\n",
    "fig2.scatter(X[: ,0] , X[: ,2],c = labels)\n",
    "\n",
    "fig2.scatter(model.cluster_centers_ [: ,0] ,model.cluster_centers_[: ,2],color ='red')\n",
    "fig1.set_xlabel('sepal length')\n",
    "fig1.set_ylabel('petal length')\n",
    "fig2.set_xlabel('sepal length')\n",
    "fig2.set_ylabel('petal length')"
   ]
  },
  {
   "cell_type": "markdown",
   "id": "020c864a",
   "metadata": {},
   "source": [
    "**Exercise 10) Try to plot the scatter plot between sepal width and petal width\n",
    "by yourself. What are the output? Do you see any pattern?**"
   ]
  },
  {
   "cell_type": "code",
   "execution_count": 24,
   "id": "a9a2c85a",
   "metadata": {},
   "outputs": [
    {
     "data": {
      "text/plain": [
       "Text(0, 0.5, 'petal width')"
      ]
     },
     "execution_count": 24,
     "metadata": {},
     "output_type": "execute_result"
    },
    {
     "data": {
      "image/png": "[encoded data removed]",
      "text/plain": [
       "<Figure size 1080x576 with 1 Axes>"
      ]
     },
     "metadata": {
      "needs_background": "light"
     },
     "output_type": "display_data"
    }
   ],
   "source": [
    "fig = plt.figure(figsize = (15,8))\n",
    "fig2 = fig.add_subplot(122)\n",
    "fig2.set_title ('Clustered Dat')\n",
    "fig2.scatter(X[: ,1] , X[: ,3],c = labels)\n",
    "fig2.scatter(model.cluster_centers_ [: ,1] ,model.cluster_centers_[: ,3],color ='red')\n",
    "fig2.set_xlabel('sepal width')\n",
    "fig2.set_ylabel('petal width')"
   ]
  },
  {
   "cell_type": "markdown",
   "id": "2cb870be",
   "metadata": {},
   "source": [
    "**Exercise 11) Now, you can try to predict only a single input.**"
   ]
  },
  {
   "cell_type": "code",
   "execution_count": 26,
   "id": "517ac653",
   "metadata": {},
   "outputs": [
    {
     "name": "stdout",
     "output_type": "stream",
     "text": [
      "[0]\n"
     ]
    }
   ],
   "source": [
    "predicted_label = model.predict([[7.2 , 3.5 , 0.8 , 1.6]])\n",
    "print(predicted_label)\n",
    "#What are the outputs? What specie the iris flower belong to?\n",
    "#Answer Species 0"
   ]
  },
  {
   "cell_type": "markdown",
   "id": "8bf1c33e",
   "metadata": {},
   "source": [
    "**Exercise 12) Try to align labels and species together by using the following\n",
    "command:**"
   ]
  },
  {
   "cell_type": "code",
   "execution_count": 27,
   "id": "fc52d8a2",
   "metadata": {},
   "outputs": [
    {
     "name": "stdout",
     "output_type": "stream",
     "text": [
      "     labels         species\n",
      "0         0     Iris-setosa\n",
      "1         0     Iris-setosa\n",
      "2         0     Iris-setosa\n",
      "3         0     Iris-setosa\n",
      "4         0     Iris-setosa\n",
      "..      ...             ...\n",
      "145       2  Iris-virginica\n",
      "146       1  Iris-virginica\n",
      "147       2  Iris-virginica\n",
      "148       2  Iris-virginica\n",
      "149       1  Iris-virginica\n",
      "\n",
      "[150 rows x 2 columns]\n"
     ]
    }
   ],
   "source": [
    "import pandas as pd\n",
    "df = pd.DataFrame({'labels': labels , 'species': Y})\n",
    "print(df)\n",
    "#What is the result of dataFrame alignment?"
   ]
  },
  {
   "cell_type": "markdown",
   "id": "8bc6e394",
   "metadata": {},
   "source": [
    "**Exercise 13) Next, perform the cross-tabulation of labels and species together to evaluate the results of using K-means clustering:**"
   ]
  },
  {
   "cell_type": "code",
   "execution_count": 28,
   "id": "98bfebf9",
   "metadata": {},
   "outputs": [
    {
     "name": "stdout",
     "output_type": "stream",
     "text": [
      "species  Iris-setosa  Iris-versicolor  Iris-virginica\n",
      "labels                                               \n",
      "0                 50                0               0\n",
      "1                  0               48              14\n",
      "2                  0                2              36\n"
     ]
    }
   ],
   "source": [
    "ct = pd.crosstab(df['labels'] , df['species'])\n",
    "print(ct)\n",
    "#What is the result of cross-tabulation? What does the result mean?\n",
    "#It shows number of species for each class."
   ]
  },
  {
   "cell_type": "markdown",
   "id": "0ea86cf7",
   "metadata": {},
   "source": [
    "**Exercise 14) Try the following code to see the clustering quality:**"
   ]
  },
  {
   "cell_type": "code",
   "execution_count": 29,
   "id": "8f6ccd20",
   "metadata": {},
   "outputs": [
    {
     "name": "stdout",
     "output_type": "stream",
     "text": [
      "78.94084142614601\n"
     ]
    }
   ],
   "source": [
    "print(model.inertia_)"
   ]
  },
  {
   "cell_type": "code",
   "execution_count": null,
   "id": "f38d99f6",
   "metadata": {},
   "outputs": [],
   "source": []
  }
 ],
 "metadata": {
  "kernelspec": {
   "display_name": "Python 3",
   "language": "python",
   "name": "python3"
  },
  "language_info": {
   "codemirror_mode": {
    "name": "ipython",
    "version": 3
   },
   "file_extension": ".py",
   "mimetype": "text/x-python",
   "name": "python",
   "nbconvert_exporter": "python",
   "pygments_lexer": "ipython3",
   "version": "3.8.8"
  }
 },
 "nbformat": 4,
 "nbformat_minor": 5
}
