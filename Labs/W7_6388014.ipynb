{
 "cells": [
  {
   "cell_type": "code",
   "execution_count": 27,
   "id": "a37f5522",
   "metadata": {},
   "outputs": [
    {
     "name": "stdout",
     "output_type": "stream",
     "text": [
      "0    a\n",
      "1    b\n",
      "2    c\n",
      "3    d\n",
      "dtype: object\n",
      "0    1\n",
      "1    2\n",
      "2    3\n",
      "3    4\n",
      "dtype: int32\n"
     ]
    }
   ],
   "source": [
    "import pandas as pd #import the pandas and aliasing as pd\n",
    "import numpy as np\n",
    "data = np.array(['a','b','c','d'])\n",
    "s1 = pd.Series(data)\n",
    "print(s1)\n",
    "data = np.array([1,2,3,4])\n",
    "s2 = pd.Series(data)\n",
    "print(s2)"
   ]
  },
  {
   "cell_type": "markdown",
   "id": "dd801d83",
   "metadata": {},
   "source": [
    "## What are the results? What are the differences between s1 and s2?\n",
    "s1 is an object , s2 is an int"
   ]
  },
  {
   "cell_type": "code",
   "execution_count": 26,
   "id": "308d450a",
   "metadata": {},
   "outputs": [
    {
     "name": "stdout",
     "output_type": "stream",
     "text": [
      "Now, it is your turn to create an heterogeneously-typed series. \n",
      "For example, [1,‘b’,3,‘d’]. What is a data type of the heterogeneously-typed series when you print out the created series?\n",
      "0    1\n",
      "1    b\n",
      "2    3\n",
      "3    d\n",
      "dtype: object\n"
     ]
    }
   ],
   "source": [
    "print(\"Now, it is your turn to create an heterogeneously-typed series. \\nFor example, [1,‘b’,3,‘d’]. What is a data type of the heterogeneously-typed series when you print out the created series?\")\n",
    "data = np.array([1,'b',3,'d'])\n",
    "s3 = pd.Series(data)\n",
    "print(s3)"
   ]
  },
  {
   "cell_type": "code",
   "execution_count": 71,
   "id": "f34a3f85",
   "metadata": {},
   "outputs": [
    {
     "name": "stdout",
     "output_type": "stream",
     "text": [
      "100    a\n",
      "101    b\n",
      "102    c\n",
      "103    d\n",
      "dtype: object\n",
      "1\n",
      "Exercise: Write a code to retrieve (show) only the first three elements in Series s.\n",
      "a    1\n",
      "b    2\n",
      "c    3\n",
      "dtype: int64\n"
     ]
    }
   ],
   "source": [
    "data = np.array(['a','b','c','d'])\n",
    "s = pd.Series(data,index=[100,101,102,103])\n",
    "print(s)\n",
    "s = pd.Series([1,2,3,4,5],index = ['a','b','c','d','e'])\n",
    "print(s[0])\n",
    "print(\"Exercise: Write a code to retrieve (show) only the first three elements in Series s.\")\n",
    "print(s[:3])"
   ]
  },
  {
   "cell_type": "code",
   "execution_count": 32,
   "id": "b0bb6586",
   "metadata": {},
   "outputs": [
    {
     "name": "stdout",
     "output_type": "stream",
     "text": [
      "Exercise: Let try to use an index (e.g. ‘a’) to access the element in Series s, e.g. s[[‘a’]]\n",
      "a    1\n",
      "dtype: int64\n",
      "a    1\n",
      "c    3\n",
      "d    4\n",
      "dtype: int64\n"
     ]
    }
   ],
   "source": [
    "print(\"Exercise: Let try to use an index (e.g. ‘a’) to access the element in Series s, e.g. s[[‘a’]]\")\n",
    "s = pd.Series([1,2,3,4,5],index = ['a','b','c','d','e'])\n",
    "print(s[['a']])\n",
    "print(s[['a','c','d']])"
   ]
  },
  {
   "cell_type": "code",
   "execution_count": 16,
   "id": "99ee6a44",
   "metadata": {},
   "outputs": [
    {
     "name": "stdout",
     "output_type": "stream",
     "text": [
      "Empty DataFrame\n",
      "Columns: []\n",
      "Index: []\n",
      "   0\n",
      "0  1\n",
      "1  2\n",
      "2  3\n",
      "3  4\n",
      "4  5\n",
      "     Name  Age\n",
      "0    Alex   10\n",
      "1     Bob   12\n",
      "2  Clarke   13\n",
      "    Name  Age\n",
      "0    Tom   28\n",
      "1   Jack   34\n",
      "2  Steve   29\n",
      "3  Ricky   42\n"
     ]
    }
   ],
   "source": [
    "import pandas as pd\n",
    "df = pd.DataFrame()\n",
    "print(df)\n",
    "data = [1,2,3,4,5]\n",
    "df1 = pd.DataFrame(data)\n",
    "print(df1)\n",
    "data = [['Alex',10],['Bob',12],['Clarke',13]]\n",
    "df2 = pd.DataFrame(data,columns=['Name','Age'])\n",
    "print(df2)\n",
    "data = {'Name':['Tom', 'Jack', 'Steve', 'Ricky'],\n",
    "'Age':[28,34,29,42]}\n",
    "df = pd.DataFrame(data)\n",
    "print(df)"
   ]
  },
  {
   "cell_type": "code",
   "execution_count": 72,
   "id": "679185e4",
   "metadata": {},
   "outputs": [
    {
     "data": {
      "text/html": [
       "<div>\n",
       "<style scoped>\n",
       "    .dataframe tbody tr th:only-of-type {\n",
       "        vertical-align: middle;\n",
       "    }\n",
       "\n",
       "    .dataframe tbody tr th {\n",
       "        vertical-align: top;\n",
       "    }\n",
       "\n",
       "    .dataframe thead th {\n",
       "        text-align: right;\n",
       "    }\n",
       "</style>\n",
       "<table border=\"1\" class=\"dataframe\">\n",
       "  <thead>\n",
       "    <tr style=\"text-align: right;\">\n",
       "      <th></th>\n",
       "      <th>one</th>\n",
       "      <th>two</th>\n",
       "    </tr>\n",
       "  </thead>\n",
       "  <tbody>\n",
       "    <tr>\n",
       "      <th>a</th>\n",
       "      <td>1.0</td>\n",
       "      <td>1</td>\n",
       "    </tr>\n",
       "    <tr>\n",
       "      <th>b</th>\n",
       "      <td>2.0</td>\n",
       "      <td>2</td>\n",
       "    </tr>\n",
       "    <tr>\n",
       "      <th>c</th>\n",
       "      <td>3.0</td>\n",
       "      <td>3</td>\n",
       "    </tr>\n",
       "    <tr>\n",
       "      <th>d</th>\n",
       "      <td>NaN</td>\n",
       "      <td>4</td>\n",
       "    </tr>\n",
       "  </tbody>\n",
       "</table>\n",
       "</div>"
      ],
      "text/plain": [
       "   one  two\n",
       "a  1.0    1\n",
       "b  2.0    2\n",
       "c  3.0    3\n",
       "d  NaN    4"
      ]
     },
     "execution_count": 72,
     "metadata": {},
     "output_type": "execute_result"
    }
   ],
   "source": [
    "d = {'one' : pd.Series([1, 2, 3], index=['a', 'b', 'c']),'two' : pd.Series([1, 2, 3, 4], index=['a', 'b', 'c', 'd'])}\n",
    "df = pd.DataFrame(d)\n",
    "df"
   ]
  },
  {
   "cell_type": "markdown",
   "id": "c48edaf5",
   "metadata": {},
   "source": [
    "Notice that we have NaN, why? Ans: because one only have 3 element.but two have four"
   ]
  },
  {
   "cell_type": "code",
   "execution_count": 83,
   "id": "be69f124",
   "metadata": {},
   "outputs": [
    {
     "name": "stdout",
     "output_type": "stream",
     "text": [
      "Exercise: now, this is your turn to create the following table as Dataframe and name this table as studentDF.\n"
     ]
    },
    {
     "data": {
      "text/html": [
       "<div>\n",
       "<style scoped>\n",
       "    .dataframe tbody tr th:only-of-type {\n",
       "        vertical-align: middle;\n",
       "    }\n",
       "\n",
       "    .dataframe tbody tr th {\n",
       "        vertical-align: top;\n",
       "    }\n",
       "\n",
       "    .dataframe thead th {\n",
       "        text-align: right;\n",
       "    }\n",
       "</style>\n",
       "<table border=\"1\" class=\"dataframe\">\n",
       "  <thead>\n",
       "    <tr style=\"text-align: right;\">\n",
       "      <th></th>\n",
       "      <th>Math</th>\n",
       "      <th>C_programming</th>\n",
       "      <th>Java</th>\n",
       "      <th>Web_programming</th>\n",
       "    </tr>\n",
       "  </thead>\n",
       "  <tbody>\n",
       "    <tr>\n",
       "      <th>0</th>\n",
       "      <td>90</td>\n",
       "      <td>70</td>\n",
       "      <td>50</td>\n",
       "      <td>55</td>\n",
       "    </tr>\n",
       "    <tr>\n",
       "      <th>1</th>\n",
       "      <td>10</td>\n",
       "      <td>20</td>\n",
       "      <td>41</td>\n",
       "      <td>66</td>\n",
       "    </tr>\n",
       "    <tr>\n",
       "      <th>2</th>\n",
       "      <td>34</td>\n",
       "      <td>25</td>\n",
       "      <td>67</td>\n",
       "      <td>23</td>\n",
       "    </tr>\n",
       "    <tr>\n",
       "      <th>3</th>\n",
       "      <td>23</td>\n",
       "      <td>32</td>\n",
       "      <td>34</td>\n",
       "      <td>76</td>\n",
       "    </tr>\n",
       "    <tr>\n",
       "      <th>4</th>\n",
       "      <td>43</td>\n",
       "      <td>73</td>\n",
       "      <td>23</td>\n",
       "      <td>67</td>\n",
       "    </tr>\n",
       "  </tbody>\n",
       "</table>\n",
       "</div>"
      ],
      "text/plain": [
       "   Math  C_programming  Java  Web_programming\n",
       "0    90             70    50               55\n",
       "1    10             20    41               66\n",
       "2    34             25    67               23\n",
       "3    23             32    34               76\n",
       "4    43             73    23               67"
      ]
     },
     "execution_count": 83,
     "metadata": {},
     "output_type": "execute_result"
    }
   ],
   "source": [
    "print(\"Exercise: now, this is your turn to create the following table as Dataframe and name this table as studentDF.\")\n",
    "c = {'Math' : pd.Series([90,10,34,23,43], index=[0,1,2,3,4]),\n",
    "     'C_programming' : pd.Series([70,20,25,32,73], index=[0,1,2,3,4]),\n",
    "     'Java' : pd.Series([50,41,67,34,23], index = [0,1,2,3,4]),\n",
    "     'Web_programming' : pd.Series([55,66,23,76,67], index = [0,1,2,3,4])\n",
    "    }\n",
    "studentDF = pd.DataFrame(c)\n",
    "studentDF"
   ]
  },
  {
   "cell_type": "code",
   "execution_count": 84,
   "id": "c1f7466c",
   "metadata": {},
   "outputs": [
    {
     "data": {
      "text/html": [
       "<div>\n",
       "<style scoped>\n",
       "    .dataframe tbody tr th:only-of-type {\n",
       "        vertical-align: middle;\n",
       "    }\n",
       "\n",
       "    .dataframe tbody tr th {\n",
       "        vertical-align: top;\n",
       "    }\n",
       "\n",
       "    .dataframe thead th {\n",
       "        text-align: right;\n",
       "    }\n",
       "</style>\n",
       "<table border=\"1\" class=\"dataframe\">\n",
       "  <thead>\n",
       "    <tr style=\"text-align: right;\">\n",
       "      <th></th>\n",
       "      <th>Math</th>\n",
       "      <th>C_programming</th>\n",
       "      <th>Java</th>\n",
       "      <th>Web_programming</th>\n",
       "    </tr>\n",
       "  </thead>\n",
       "  <tbody>\n",
       "    <tr>\n",
       "      <th>2</th>\n",
       "      <td>34</td>\n",
       "      <td>25</td>\n",
       "      <td>67</td>\n",
       "      <td>23</td>\n",
       "    </tr>\n",
       "    <tr>\n",
       "      <th>3</th>\n",
       "      <td>23</td>\n",
       "      <td>32</td>\n",
       "      <td>34</td>\n",
       "      <td>76</td>\n",
       "    </tr>\n",
       "  </tbody>\n",
       "</table>\n",
       "</div>"
      ],
      "text/plain": [
       "   Math  C_programming  Java  Web_programming\n",
       "2    34             25    67               23\n",
       "3    23             32    34               76"
      ]
     },
     "execution_count": 84,
     "metadata": {},
     "output_type": "execute_result"
    }
   ],
   "source": [
    "studentDF[2:4]"
   ]
  },
  {
   "cell_type": "code",
   "execution_count": 85,
   "id": "7b4aa00d",
   "metadata": {},
   "outputs": [
    {
     "name": "stdout",
     "output_type": "stream",
     "text": [
      "Math               90\n",
      "C_programming      70\n",
      "Java               50\n",
      "Web_programming    55\n",
      "Name: 0, dtype: int64\n"
     ]
    }
   ],
   "source": [
    "print(studentDF.loc[0])"
   ]
  },
  {
   "cell_type": "code",
   "execution_count": 86,
   "id": "26946f9d",
   "metadata": {},
   "outputs": [
    {
     "name": "stdout",
     "output_type": "stream",
     "text": [
      "Math               34\n",
      "C_programming      25\n",
      "Java               67\n",
      "Web_programming    23\n",
      "Name: 2, dtype: int64\n"
     ]
    }
   ],
   "source": [
    "print(studentDF.loc[2])"
   ]
  },
  {
   "cell_type": "code",
   "execution_count": 87,
   "id": "fbe2c880",
   "metadata": {},
   "outputs": [
    {
     "name": "stdout",
     "output_type": "stream",
     "text": [
      "   Math  C_programming  Java  Web_programming\n",
      "0    90             70    50               55\n",
      "1    10             20    41               66\n",
      "2    34             25    67               23\n"
     ]
    }
   ],
   "source": [
    "print(studentDF.loc[0:2])"
   ]
  },
  {
   "cell_type": "code",
   "execution_count": 88,
   "id": "05017272",
   "metadata": {},
   "outputs": [
    {
     "name": "stdout",
     "output_type": "stream",
     "text": [
      "Exercise: use append t add the following table to table studentDF that you have created in the previous exercise.\n"
     ]
    },
    {
     "data": {
      "text/html": [
       "<div>\n",
       "<style scoped>\n",
       "    .dataframe tbody tr th:only-of-type {\n",
       "        vertical-align: middle;\n",
       "    }\n",
       "\n",
       "    .dataframe tbody tr th {\n",
       "        vertical-align: top;\n",
       "    }\n",
       "\n",
       "    .dataframe thead th {\n",
       "        text-align: right;\n",
       "    }\n",
       "</style>\n",
       "<table border=\"1\" class=\"dataframe\">\n",
       "  <thead>\n",
       "    <tr style=\"text-align: right;\">\n",
       "      <th></th>\n",
       "      <th>Math</th>\n",
       "      <th>C_programming</th>\n",
       "      <th>Java</th>\n",
       "      <th>Web_programming</th>\n",
       "    </tr>\n",
       "  </thead>\n",
       "  <tbody>\n",
       "    <tr>\n",
       "      <th>0</th>\n",
       "      <td>90</td>\n",
       "      <td>70</td>\n",
       "      <td>50</td>\n",
       "      <td>55</td>\n",
       "    </tr>\n",
       "    <tr>\n",
       "      <th>1</th>\n",
       "      <td>10</td>\n",
       "      <td>20</td>\n",
       "      <td>41</td>\n",
       "      <td>66</td>\n",
       "    </tr>\n",
       "    <tr>\n",
       "      <th>2</th>\n",
       "      <td>34</td>\n",
       "      <td>25</td>\n",
       "      <td>67</td>\n",
       "      <td>23</td>\n",
       "    </tr>\n",
       "    <tr>\n",
       "      <th>3</th>\n",
       "      <td>23</td>\n",
       "      <td>32</td>\n",
       "      <td>34</td>\n",
       "      <td>76</td>\n",
       "    </tr>\n",
       "    <tr>\n",
       "      <th>4</th>\n",
       "      <td>43</td>\n",
       "      <td>73</td>\n",
       "      <td>23</td>\n",
       "      <td>67</td>\n",
       "    </tr>\n",
       "    <tr>\n",
       "      <th>5</th>\n",
       "      <td>59</td>\n",
       "      <td>37</td>\n",
       "      <td>84</td>\n",
       "      <td>82</td>\n",
       "    </tr>\n",
       "    <tr>\n",
       "      <th>6</th>\n",
       "      <td>41</td>\n",
       "      <td>34</td>\n",
       "      <td>73</td>\n",
       "      <td>55</td>\n",
       "    </tr>\n",
       "  </tbody>\n",
       "</table>\n",
       "</div>"
      ],
      "text/plain": [
       "   Math  C_programming  Java  Web_programming\n",
       "0    90             70    50               55\n",
       "1    10             20    41               66\n",
       "2    34             25    67               23\n",
       "3    23             32    34               76\n",
       "4    43             73    23               67\n",
       "5    59             37    84               82\n",
       "6    41             34    73               55"
      ]
     },
     "execution_count": 88,
     "metadata": {},
     "output_type": "execute_result"
    }
   ],
   "source": [
    "print(\"Exercise: use append t add the following table to table studentDF that you have created in the previous exercise.\")\n",
    "df1 = pd.DataFrame([[59,37,84,82],[41,34,73,55]], columns = ['Math','C_programming','Java','Web_programming'],index = [5,6])\n",
    "studentDF = studentDF.append(df1)\n",
    "studentDF"
   ]
  },
  {
   "cell_type": "code",
   "execution_count": 89,
   "id": "7d560b0f",
   "metadata": {},
   "outputs": [
    {
     "name": "stdout",
     "output_type": "stream",
     "text": [
      "Exercise: use drop function to remove the last row from table studentDF.\n"
     ]
    },
    {
     "data": {
      "text/html": [
       "<div>\n",
       "<style scoped>\n",
       "    .dataframe tbody tr th:only-of-type {\n",
       "        vertical-align: middle;\n",
       "    }\n",
       "\n",
       "    .dataframe tbody tr th {\n",
       "        vertical-align: top;\n",
       "    }\n",
       "\n",
       "    .dataframe thead th {\n",
       "        text-align: right;\n",
       "    }\n",
       "</style>\n",
       "<table border=\"1\" class=\"dataframe\">\n",
       "  <thead>\n",
       "    <tr style=\"text-align: right;\">\n",
       "      <th></th>\n",
       "      <th>Math</th>\n",
       "      <th>C_programming</th>\n",
       "      <th>Java</th>\n",
       "      <th>Web_programming</th>\n",
       "    </tr>\n",
       "  </thead>\n",
       "  <tbody>\n",
       "    <tr>\n",
       "      <th>0</th>\n",
       "      <td>90</td>\n",
       "      <td>70</td>\n",
       "      <td>50</td>\n",
       "      <td>55</td>\n",
       "    </tr>\n",
       "    <tr>\n",
       "      <th>1</th>\n",
       "      <td>10</td>\n",
       "      <td>20</td>\n",
       "      <td>41</td>\n",
       "      <td>66</td>\n",
       "    </tr>\n",
       "    <tr>\n",
       "      <th>2</th>\n",
       "      <td>34</td>\n",
       "      <td>25</td>\n",
       "      <td>67</td>\n",
       "      <td>23</td>\n",
       "    </tr>\n",
       "    <tr>\n",
       "      <th>3</th>\n",
       "      <td>23</td>\n",
       "      <td>32</td>\n",
       "      <td>34</td>\n",
       "      <td>76</td>\n",
       "    </tr>\n",
       "    <tr>\n",
       "      <th>4</th>\n",
       "      <td>43</td>\n",
       "      <td>73</td>\n",
       "      <td>23</td>\n",
       "      <td>67</td>\n",
       "    </tr>\n",
       "    <tr>\n",
       "      <th>5</th>\n",
       "      <td>59</td>\n",
       "      <td>37</td>\n",
       "      <td>84</td>\n",
       "      <td>82</td>\n",
       "    </tr>\n",
       "  </tbody>\n",
       "</table>\n",
       "</div>"
      ],
      "text/plain": [
       "   Math  C_programming  Java  Web_programming\n",
       "0    90             70    50               55\n",
       "1    10             20    41               66\n",
       "2    34             25    67               23\n",
       "3    23             32    34               76\n",
       "4    43             73    23               67\n",
       "5    59             37    84               82"
      ]
     },
     "execution_count": 89,
     "metadata": {},
     "output_type": "execute_result"
    }
   ],
   "source": [
    "print(\"Exercise: use drop function to remove the last row from table studentDF.\")\n",
    "studentDF = studentDF.drop(6)\n",
    "studentDF"
   ]
  },
  {
   "cell_type": "code",
   "execution_count": 91,
   "id": "f7791675",
   "metadata": {},
   "outputs": [
    {
     "data": {
      "text/plain": [
       "Name    TomJackSteveRicky\n",
       "Age                   133\n",
       "dtype: object"
      ]
     },
     "execution_count": 91,
     "metadata": {},
     "output_type": "execute_result"
    }
   ],
   "source": [
    "data = {'Name':['Tom', 'Jack', 'Steve', 'Ricky'],\n",
    "        'Age':[28,34,29,42]}\n",
    "df = pd.DataFrame(data)\n",
    "df.sum()"
   ]
  },
  {
   "cell_type": "code",
   "execution_count": 92,
   "id": "658ab9ea",
   "metadata": {},
   "outputs": [
    {
     "name": "stdout",
     "output_type": "stream",
     "text": [
      "Exercise: try to apply sum() with table studentDF. What is the result?\n"
     ]
    },
    {
     "data": {
      "text/plain": [
       "Math               259\n",
       "C_programming      257\n",
       "Java               299\n",
       "Web_programming    369\n",
       "dtype: int64"
      ]
     },
     "execution_count": 92,
     "metadata": {},
     "output_type": "execute_result"
    }
   ],
   "source": [
    "print(\"Exercise: try to apply sum() with table studentDF. What is the result?\")\n",
    "studentDF.sum()"
   ]
  },
  {
   "cell_type": "code",
   "execution_count": 93,
   "id": "e48b2b01",
   "metadata": {},
   "outputs": [
    {
     "name": "stdout",
     "output_type": "stream",
     "text": [
      "Exercise: try to use axis attribute to change the orientation of the summation.\n"
     ]
    },
    {
     "data": {
      "text/plain": [
       "0    265\n",
       "1    137\n",
       "2    149\n",
       "3    165\n",
       "4    206\n",
       "5    262\n",
       "dtype: int64"
      ]
     },
     "execution_count": 93,
     "metadata": {},
     "output_type": "execute_result"
    }
   ],
   "source": [
    "print(\"Exercise: try to use axis attribute to change the orientation of the summation.\")\n",
    "studentDF.sum(axis = 1)"
   ]
  },
  {
   "cell_type": "code",
   "execution_count": 94,
   "id": "1c16248b",
   "metadata": {},
   "outputs": [
    {
     "name": "stdout",
     "output_type": "stream",
     "text": [
      "Exercise: use the above statistical functions on table studentDF, and see the results.\n"
     ]
    },
    {
     "data": {
      "text/plain": [
       "Math               90\n",
       "C_programming      73\n",
       "Java               84\n",
       "Web_programming    82\n",
       "dtype: int64"
      ]
     },
     "execution_count": 94,
     "metadata": {},
     "output_type": "execute_result"
    }
   ],
   "source": [
    "print(\"Exercise: use the above statistical functions on table studentDF, and see the results.\")\n",
    "studentDF.max()"
   ]
  },
  {
   "cell_type": "code",
   "execution_count": 95,
   "id": "a3561a2e",
   "metadata": {},
   "outputs": [
    {
     "data": {
      "text/html": [
       "<div>\n",
       "<style scoped>\n",
       "    .dataframe tbody tr th:only-of-type {\n",
       "        vertical-align: middle;\n",
       "    }\n",
       "\n",
       "    .dataframe tbody tr th {\n",
       "        vertical-align: top;\n",
       "    }\n",
       "\n",
       "    .dataframe thead th {\n",
       "        text-align: right;\n",
       "    }\n",
       "</style>\n",
       "<table border=\"1\" class=\"dataframe\">\n",
       "  <thead>\n",
       "    <tr style=\"text-align: right;\">\n",
       "      <th></th>\n",
       "      <th>Math</th>\n",
       "      <th>C_programming</th>\n",
       "      <th>Java</th>\n",
       "      <th>Web_programming</th>\n",
       "    </tr>\n",
       "  </thead>\n",
       "  <tbody>\n",
       "    <tr>\n",
       "      <th>count</th>\n",
       "      <td>6.000000</td>\n",
       "      <td>6.000000</td>\n",
       "      <td>6.000000</td>\n",
       "      <td>6.000000</td>\n",
       "    </tr>\n",
       "    <tr>\n",
       "      <th>mean</th>\n",
       "      <td>43.166667</td>\n",
       "      <td>42.833333</td>\n",
       "      <td>49.833333</td>\n",
       "      <td>61.500000</td>\n",
       "    </tr>\n",
       "    <tr>\n",
       "      <th>std</th>\n",
       "      <td>28.407159</td>\n",
       "      <td>22.973173</td>\n",
       "      <td>22.409076</td>\n",
       "      <td>21.002381</td>\n",
       "    </tr>\n",
       "    <tr>\n",
       "      <th>min</th>\n",
       "      <td>10.000000</td>\n",
       "      <td>20.000000</td>\n",
       "      <td>23.000000</td>\n",
       "      <td>23.000000</td>\n",
       "    </tr>\n",
       "    <tr>\n",
       "      <th>25%</th>\n",
       "      <td>25.750000</td>\n",
       "      <td>26.750000</td>\n",
       "      <td>35.750000</td>\n",
       "      <td>57.750000</td>\n",
       "    </tr>\n",
       "    <tr>\n",
       "      <th>50%</th>\n",
       "      <td>38.500000</td>\n",
       "      <td>34.500000</td>\n",
       "      <td>45.500000</td>\n",
       "      <td>66.500000</td>\n",
       "    </tr>\n",
       "    <tr>\n",
       "      <th>75%</th>\n",
       "      <td>55.000000</td>\n",
       "      <td>61.750000</td>\n",
       "      <td>62.750000</td>\n",
       "      <td>73.750000</td>\n",
       "    </tr>\n",
       "    <tr>\n",
       "      <th>max</th>\n",
       "      <td>90.000000</td>\n",
       "      <td>73.000000</td>\n",
       "      <td>84.000000</td>\n",
       "      <td>82.000000</td>\n",
       "    </tr>\n",
       "  </tbody>\n",
       "</table>\n",
       "</div>"
      ],
      "text/plain": [
       "            Math  C_programming       Java  Web_programming\n",
       "count   6.000000       6.000000   6.000000         6.000000\n",
       "mean   43.166667      42.833333  49.833333        61.500000\n",
       "std    28.407159      22.973173  22.409076        21.002381\n",
       "min    10.000000      20.000000  23.000000        23.000000\n",
       "25%    25.750000      26.750000  35.750000        57.750000\n",
       "50%    38.500000      34.500000  45.500000        66.500000\n",
       "75%    55.000000      61.750000  62.750000        73.750000\n",
       "max    90.000000      73.000000  84.000000        82.000000"
      ]
     },
     "execution_count": 95,
     "metadata": {},
     "output_type": "execute_result"
    }
   ],
   "source": [
    "studentDF.describe()"
   ]
  },
  {
   "cell_type": "code",
   "execution_count": 55,
   "id": "f73425fd",
   "metadata": {},
   "outputs": [
    {
     "name": "stdout",
     "output_type": "stream",
     "text": [
      "- What is the mean value of Math score? ANS:43.1667\n",
      "- What is the score at the third quartile of Java? ANS:62.750\n",
      "- What is the standard deviation of Web programming score? ANS:21.002381\n"
     ]
    }
   ],
   "source": [
    "print(\"- What is the mean value of Math score? ANS:43.1667\\n- What is the score at the third quartile of Java? ANS:62.750\\n- What is the standard deviation of Web programming score? ANS:21.002381\")"
   ]
  },
  {
   "cell_type": "code",
   "execution_count": 96,
   "id": "37a20cee",
   "metadata": {},
   "outputs": [
    {
     "data": {
      "text/html": [
       "<div>\n",
       "<style scoped>\n",
       "    .dataframe tbody tr th:only-of-type {\n",
       "        vertical-align: middle;\n",
       "    }\n",
       "\n",
       "    .dataframe tbody tr th {\n",
       "        vertical-align: top;\n",
       "    }\n",
       "\n",
       "    .dataframe thead th {\n",
       "        text-align: right;\n",
       "    }\n",
       "</style>\n",
       "<table border=\"1\" class=\"dataframe\">\n",
       "  <thead>\n",
       "    <tr style=\"text-align: right;\">\n",
       "      <th></th>\n",
       "      <th>Math</th>\n",
       "      <th>C_programming</th>\n",
       "      <th>Java</th>\n",
       "      <th>Web_programming</th>\n",
       "    </tr>\n",
       "  </thead>\n",
       "  <tbody>\n",
       "    <tr>\n",
       "      <th>0</th>\n",
       "      <td>90.0</td>\n",
       "      <td>70.0</td>\n",
       "      <td>50.0</td>\n",
       "      <td>55.0</td>\n",
       "    </tr>\n",
       "    <tr>\n",
       "      <th>1</th>\n",
       "      <td>10.0</td>\n",
       "      <td>20.0</td>\n",
       "      <td>41.0</td>\n",
       "      <td>66.0</td>\n",
       "    </tr>\n",
       "    <tr>\n",
       "      <th>2</th>\n",
       "      <td>34.0</td>\n",
       "      <td>25.0</td>\n",
       "      <td>67.0</td>\n",
       "      <td>23.0</td>\n",
       "    </tr>\n",
       "    <tr>\n",
       "      <th>3</th>\n",
       "      <td>23.0</td>\n",
       "      <td>32.0</td>\n",
       "      <td>34.0</td>\n",
       "      <td>76.0</td>\n",
       "    </tr>\n",
       "    <tr>\n",
       "      <th>4</th>\n",
       "      <td>43.0</td>\n",
       "      <td>73.0</td>\n",
       "      <td>23.0</td>\n",
       "      <td>67.0</td>\n",
       "    </tr>\n",
       "    <tr>\n",
       "      <th>5</th>\n",
       "      <td>59.0</td>\n",
       "      <td>37.0</td>\n",
       "      <td>84.0</td>\n",
       "      <td>82.0</td>\n",
       "    </tr>\n",
       "    <tr>\n",
       "      <th>6</th>\n",
       "      <td>NaN</td>\n",
       "      <td>NaN</td>\n",
       "      <td>NaN</td>\n",
       "      <td>NaN</td>\n",
       "    </tr>\n",
       "    <tr>\n",
       "      <th>7</th>\n",
       "      <td>NaN</td>\n",
       "      <td>NaN</td>\n",
       "      <td>NaN</td>\n",
       "      <td>NaN</td>\n",
       "    </tr>\n",
       "  </tbody>\n",
       "</table>\n",
       "</div>"
      ],
      "text/plain": [
       "   Math  C_programming  Java  Web_programming\n",
       "0  90.0           70.0  50.0             55.0\n",
       "1  10.0           20.0  41.0             66.0\n",
       "2  34.0           25.0  67.0             23.0\n",
       "3  23.0           32.0  34.0             76.0\n",
       "4  43.0           73.0  23.0             67.0\n",
       "5  59.0           37.0  84.0             82.0\n",
       "6   NaN            NaN   NaN              NaN\n",
       "7   NaN            NaN   NaN              NaN"
      ]
     },
     "execution_count": 96,
     "metadata": {},
     "output_type": "execute_result"
    }
   ],
   "source": [
    "studentDF = studentDF.reindex([0,1,2,3,4,5,6,7])\n",
    "studentDF"
   ]
  },
  {
   "cell_type": "code",
   "execution_count": 57,
   "id": "5f3d8355",
   "metadata": {},
   "outputs": [
    {
     "name": "stdout",
     "output_type": "stream",
     "text": [
      "How many NaN appearin table studentDF. ANS:8 NaN\n"
     ]
    }
   ],
   "source": [
    "print(\"How many NaN appearin table studentDF. ANS:8 NaN\")"
   ]
  },
  {
   "cell_type": "code",
   "execution_count": 97,
   "id": "5be3bc56",
   "metadata": {},
   "outputs": [
    {
     "name": "stdout",
     "output_type": "stream",
     "text": [
      "Exercise: use isnull() and notnull() with table studentDF and see the results\n"
     ]
    },
    {
     "data": {
      "text/html": [
       "<div>\n",
       "<style scoped>\n",
       "    .dataframe tbody tr th:only-of-type {\n",
       "        vertical-align: middle;\n",
       "    }\n",
       "\n",
       "    .dataframe tbody tr th {\n",
       "        vertical-align: top;\n",
       "    }\n",
       "\n",
       "    .dataframe thead th {\n",
       "        text-align: right;\n",
       "    }\n",
       "</style>\n",
       "<table border=\"1\" class=\"dataframe\">\n",
       "  <thead>\n",
       "    <tr style=\"text-align: right;\">\n",
       "      <th></th>\n",
       "      <th>Math</th>\n",
       "      <th>C_programming</th>\n",
       "      <th>Java</th>\n",
       "      <th>Web_programming</th>\n",
       "    </tr>\n",
       "  </thead>\n",
       "  <tbody>\n",
       "    <tr>\n",
       "      <th>0</th>\n",
       "      <td>False</td>\n",
       "      <td>False</td>\n",
       "      <td>False</td>\n",
       "      <td>False</td>\n",
       "    </tr>\n",
       "    <tr>\n",
       "      <th>1</th>\n",
       "      <td>False</td>\n",
       "      <td>False</td>\n",
       "      <td>False</td>\n",
       "      <td>False</td>\n",
       "    </tr>\n",
       "    <tr>\n",
       "      <th>2</th>\n",
       "      <td>False</td>\n",
       "      <td>False</td>\n",
       "      <td>False</td>\n",
       "      <td>False</td>\n",
       "    </tr>\n",
       "    <tr>\n",
       "      <th>3</th>\n",
       "      <td>False</td>\n",
       "      <td>False</td>\n",
       "      <td>False</td>\n",
       "      <td>False</td>\n",
       "    </tr>\n",
       "    <tr>\n",
       "      <th>4</th>\n",
       "      <td>False</td>\n",
       "      <td>False</td>\n",
       "      <td>False</td>\n",
       "      <td>False</td>\n",
       "    </tr>\n",
       "    <tr>\n",
       "      <th>5</th>\n",
       "      <td>False</td>\n",
       "      <td>False</td>\n",
       "      <td>False</td>\n",
       "      <td>False</td>\n",
       "    </tr>\n",
       "    <tr>\n",
       "      <th>6</th>\n",
       "      <td>True</td>\n",
       "      <td>True</td>\n",
       "      <td>True</td>\n",
       "      <td>True</td>\n",
       "    </tr>\n",
       "    <tr>\n",
       "      <th>7</th>\n",
       "      <td>True</td>\n",
       "      <td>True</td>\n",
       "      <td>True</td>\n",
       "      <td>True</td>\n",
       "    </tr>\n",
       "  </tbody>\n",
       "</table>\n",
       "</div>"
      ],
      "text/plain": [
       "    Math  C_programming   Java  Web_programming\n",
       "0  False          False  False            False\n",
       "1  False          False  False            False\n",
       "2  False          False  False            False\n",
       "3  False          False  False            False\n",
       "4  False          False  False            False\n",
       "5  False          False  False            False\n",
       "6   True           True   True             True\n",
       "7   True           True   True             True"
      ]
     },
     "execution_count": 97,
     "metadata": {},
     "output_type": "execute_result"
    }
   ],
   "source": [
    "print(\"Exercise: use isnull() and notnull() with table studentDF and see the results\")\n",
    "studentDF.isnull()"
   ]
  },
  {
   "cell_type": "code",
   "execution_count": 98,
   "id": "84934253",
   "metadata": {},
   "outputs": [
    {
     "data": {
      "text/html": [
       "<div>\n",
       "<style scoped>\n",
       "    .dataframe tbody tr th:only-of-type {\n",
       "        vertical-align: middle;\n",
       "    }\n",
       "\n",
       "    .dataframe tbody tr th {\n",
       "        vertical-align: top;\n",
       "    }\n",
       "\n",
       "    .dataframe thead th {\n",
       "        text-align: right;\n",
       "    }\n",
       "</style>\n",
       "<table border=\"1\" class=\"dataframe\">\n",
       "  <thead>\n",
       "    <tr style=\"text-align: right;\">\n",
       "      <th></th>\n",
       "      <th>Math</th>\n",
       "      <th>C_programming</th>\n",
       "      <th>Java</th>\n",
       "      <th>Web_programming</th>\n",
       "    </tr>\n",
       "  </thead>\n",
       "  <tbody>\n",
       "    <tr>\n",
       "      <th>0</th>\n",
       "      <td>True</td>\n",
       "      <td>True</td>\n",
       "      <td>True</td>\n",
       "      <td>True</td>\n",
       "    </tr>\n",
       "    <tr>\n",
       "      <th>1</th>\n",
       "      <td>True</td>\n",
       "      <td>True</td>\n",
       "      <td>True</td>\n",
       "      <td>True</td>\n",
       "    </tr>\n",
       "    <tr>\n",
       "      <th>2</th>\n",
       "      <td>True</td>\n",
       "      <td>True</td>\n",
       "      <td>True</td>\n",
       "      <td>True</td>\n",
       "    </tr>\n",
       "    <tr>\n",
       "      <th>3</th>\n",
       "      <td>True</td>\n",
       "      <td>True</td>\n",
       "      <td>True</td>\n",
       "      <td>True</td>\n",
       "    </tr>\n",
       "    <tr>\n",
       "      <th>4</th>\n",
       "      <td>True</td>\n",
       "      <td>True</td>\n",
       "      <td>True</td>\n",
       "      <td>True</td>\n",
       "    </tr>\n",
       "    <tr>\n",
       "      <th>5</th>\n",
       "      <td>True</td>\n",
       "      <td>True</td>\n",
       "      <td>True</td>\n",
       "      <td>True</td>\n",
       "    </tr>\n",
       "    <tr>\n",
       "      <th>6</th>\n",
       "      <td>False</td>\n",
       "      <td>False</td>\n",
       "      <td>False</td>\n",
       "      <td>False</td>\n",
       "    </tr>\n",
       "    <tr>\n",
       "      <th>7</th>\n",
       "      <td>False</td>\n",
       "      <td>False</td>\n",
       "      <td>False</td>\n",
       "      <td>False</td>\n",
       "    </tr>\n",
       "  </tbody>\n",
       "</table>\n",
       "</div>"
      ],
      "text/plain": [
       "    Math  C_programming   Java  Web_programming\n",
       "0   True           True   True             True\n",
       "1   True           True   True             True\n",
       "2   True           True   True             True\n",
       "3   True           True   True             True\n",
       "4   True           True   True             True\n",
       "5   True           True   True             True\n",
       "6  False          False  False            False\n",
       "7  False          False  False            False"
      ]
     },
     "execution_count": 98,
     "metadata": {},
     "output_type": "execute_result"
    }
   ],
   "source": [
    "studentDF.notnull()"
   ]
  },
  {
   "cell_type": "code",
   "execution_count": 99,
   "id": "d7055e34",
   "metadata": {},
   "outputs": [
    {
     "name": "stdout",
     "output_type": "stream",
     "text": [
      "   Math  C_programming  Java  Web_programming\n",
      "0  90.0           70.0  50.0             55.0\n",
      "1  10.0           20.0  41.0             66.0\n",
      "2  34.0           25.0  67.0             23.0\n",
      "3  23.0           32.0  34.0             76.0\n",
      "4  43.0           73.0  23.0             67.0\n",
      "5  59.0           37.0  84.0             82.0\n",
      "6   0.0            0.0   0.0              0.0\n",
      "7   0.0            0.0   0.0              0.0\n",
      "   Math  C_programming  Java  Web_programming\n",
      "0  90.0           70.0  50.0             55.0\n",
      "1  10.0           20.0  41.0             66.0\n",
      "2  34.0           25.0  67.0             23.0\n",
      "3  23.0           32.0  34.0             76.0\n",
      "4  43.0           73.0  23.0             67.0\n",
      "5  59.0           37.0  84.0             82.0\n",
      "6  59.0           37.0  84.0             82.0\n",
      "7  59.0           37.0  84.0             82.0\n",
      "Exercise: What is the differences between s1 and s2.\n",
      "s1 fills NaN with 0, \n",
      "s2 fills NaN as with the last row\n"
     ]
    }
   ],
   "source": [
    "s1 = studentDF\n",
    "s2 = studentDF\n",
    "s1 = s1.fillna(0)\n",
    "s2 = s2.fillna(method='pad')\n",
    "print(s1)\n",
    "print(s2)\n",
    "print(\"Exercise: What is the differences between s1 and s2.\\ns1 fills NaN with 0, \\ns2 fills NaN as with the last row\")"
   ]
  },
  {
   "cell_type": "code",
   "execution_count": 100,
   "id": "bce124c7",
   "metadata": {},
   "outputs": [
    {
     "name": "stdout",
     "output_type": "stream",
     "text": [
      "   id    Name subject_id\n",
      "0   1    Alex       sub1\n",
      "1   2     Amy       sub2\n",
      "2   3   Allen       sub4\n",
      "3   4   Alice       sub6\n",
      "4   5  Ayoung       sub5\n",
      "   id    subject_name\n",
      "0   1            Math\n",
      "1   2         English\n",
      "2   3  Social Science\n",
      "3   4     Programming\n",
      "4   5         Physics\n"
     ]
    }
   ],
   "source": [
    "left = pd.DataFrame({\n",
    "        'id':[1,2,3,4,5],\n",
    "        'Name': ['Alex', 'Amy', 'Allen', 'Alice', 'Ayoung'],\n",
    "        'subject_id':['sub1','sub2','sub4','sub6','sub5']})\n",
    "right = pd.DataFrame({\n",
    "        'id':[1,2,3,4,5],\n",
    "        'subject_name':['Math','English','Social Science','Programming','Physics']})\n",
    "print(left)\n",
    "print(right)"
   ]
  },
  {
   "cell_type": "code",
   "execution_count": 104,
   "id": "4e24f8e2",
   "metadata": {},
   "outputs": [
    {
     "data": {
      "text/html": [
       "<div>\n",
       "<style scoped>\n",
       "    .dataframe tbody tr th:only-of-type {\n",
       "        vertical-align: middle;\n",
       "    }\n",
       "\n",
       "    .dataframe tbody tr th {\n",
       "        vertical-align: top;\n",
       "    }\n",
       "\n",
       "    .dataframe thead th {\n",
       "        text-align: right;\n",
       "    }\n",
       "</style>\n",
       "<table border=\"1\" class=\"dataframe\">\n",
       "  <thead>\n",
       "    <tr style=\"text-align: right;\">\n",
       "      <th></th>\n",
       "      <th>id</th>\n",
       "      <th>Name</th>\n",
       "      <th>subject_id</th>\n",
       "      <th>subject_name</th>\n",
       "    </tr>\n",
       "  </thead>\n",
       "  <tbody>\n",
       "    <tr>\n",
       "      <th>0</th>\n",
       "      <td>1</td>\n",
       "      <td>Alex</td>\n",
       "      <td>sub1</td>\n",
       "      <td>Math</td>\n",
       "    </tr>\n",
       "    <tr>\n",
       "      <th>1</th>\n",
       "      <td>2</td>\n",
       "      <td>Amy</td>\n",
       "      <td>sub2</td>\n",
       "      <td>English</td>\n",
       "    </tr>\n",
       "    <tr>\n",
       "      <th>2</th>\n",
       "      <td>3</td>\n",
       "      <td>Allen</td>\n",
       "      <td>sub4</td>\n",
       "      <td>Social Science</td>\n",
       "    </tr>\n",
       "    <tr>\n",
       "      <th>3</th>\n",
       "      <td>4</td>\n",
       "      <td>Alice</td>\n",
       "      <td>sub6</td>\n",
       "      <td>Programming</td>\n",
       "    </tr>\n",
       "    <tr>\n",
       "      <th>4</th>\n",
       "      <td>5</td>\n",
       "      <td>Ayoung</td>\n",
       "      <td>sub5</td>\n",
       "      <td>Physics</td>\n",
       "    </tr>\n",
       "  </tbody>\n",
       "</table>\n",
       "</div>"
      ],
      "text/plain": [
       "   id    Name subject_id    subject_name\n",
       "0   1    Alex       sub1            Math\n",
       "1   2     Amy       sub2         English\n",
       "2   3   Allen       sub4  Social Science\n",
       "3   4   Alice       sub6     Programming\n",
       "4   5  Ayoung       sub5         Physics"
      ]
     },
     "execution_count": 104,
     "metadata": {},
     "output_type": "execute_result"
    }
   ],
   "source": [
    "merged_table = pd.merge(left,right,on='id')\n",
    "merged_table"
   ]
  },
  {
   "cell_type": "code",
   "execution_count": 105,
   "id": "3eaf1c4c",
   "metadata": {},
   "outputs": [
    {
     "name": "stdout",
     "output_type": "stream",
     "text": [
      "Exercise: create table section and create table student as the following. \n",
      "You have to use merge() to join the section table with the student table below and name your table as score. \n",
      "Note that use id as a joining key\n",
      "   id section\n",
      "0   0     one\n",
      "1   1     one\n",
      "2   2     one\n",
      "3   3     two\n",
      "4   4     two\n",
      "5   5     two\n",
      "   id    name  math  english\n",
      "0   0     Mat    34       23\n",
      "1   1    Mike    12       13\n",
      "2   2    John    34       51\n",
      "3   3  Peecha    12       62\n",
      "4   4   Prabu    65       12\n",
      "5   5  Bunchu    23       42\n"
     ]
    }
   ],
   "source": [
    "print(\"Exercise: create table section and create table student as the following. \\nYou have to use merge() to join the section table with the student table below and name your table as score. \\nNote that use id as a joining key\")\n",
    "left = pd.DataFrame({\n",
    "        'id' :[0,1,2,3,4,5],\n",
    "        'section' :['one','one','one','two','two','two']\n",
    "})\n",
    "right = pd.DataFrame({\n",
    "        'id' :[0,1,2,3,4,5],\n",
    "        'name' :['Mat','Mike','John','Peecha','Prabu','Bunchu'],\n",
    "        'math' :[34,12,34,12,65,23],\n",
    "        'english' :[23,13,51,62,12,42]\n",
    "})\n",
    "print(left)\n",
    "print(right)"
   ]
  },
  {
   "cell_type": "code",
   "execution_count": 106,
   "id": "58d7e035",
   "metadata": {},
   "outputs": [
    {
     "data": {
      "text/html": [
       "<div>\n",
       "<style scoped>\n",
       "    .dataframe tbody tr th:only-of-type {\n",
       "        vertical-align: middle;\n",
       "    }\n",
       "\n",
       "    .dataframe tbody tr th {\n",
       "        vertical-align: top;\n",
       "    }\n",
       "\n",
       "    .dataframe thead th {\n",
       "        text-align: right;\n",
       "    }\n",
       "</style>\n",
       "<table border=\"1\" class=\"dataframe\">\n",
       "  <thead>\n",
       "    <tr style=\"text-align: right;\">\n",
       "      <th></th>\n",
       "      <th>id</th>\n",
       "      <th>section</th>\n",
       "      <th>name</th>\n",
       "      <th>math</th>\n",
       "      <th>english</th>\n",
       "    </tr>\n",
       "  </thead>\n",
       "  <tbody>\n",
       "    <tr>\n",
       "      <th>0</th>\n",
       "      <td>0</td>\n",
       "      <td>one</td>\n",
       "      <td>Mat</td>\n",
       "      <td>34</td>\n",
       "      <td>23</td>\n",
       "    </tr>\n",
       "    <tr>\n",
       "      <th>1</th>\n",
       "      <td>1</td>\n",
       "      <td>one</td>\n",
       "      <td>Mike</td>\n",
       "      <td>12</td>\n",
       "      <td>13</td>\n",
       "    </tr>\n",
       "    <tr>\n",
       "      <th>2</th>\n",
       "      <td>2</td>\n",
       "      <td>one</td>\n",
       "      <td>John</td>\n",
       "      <td>34</td>\n",
       "      <td>51</td>\n",
       "    </tr>\n",
       "    <tr>\n",
       "      <th>3</th>\n",
       "      <td>3</td>\n",
       "      <td>two</td>\n",
       "      <td>Peecha</td>\n",
       "      <td>12</td>\n",
       "      <td>62</td>\n",
       "    </tr>\n",
       "    <tr>\n",
       "      <th>4</th>\n",
       "      <td>4</td>\n",
       "      <td>two</td>\n",
       "      <td>Prabu</td>\n",
       "      <td>65</td>\n",
       "      <td>12</td>\n",
       "    </tr>\n",
       "    <tr>\n",
       "      <th>5</th>\n",
       "      <td>5</td>\n",
       "      <td>two</td>\n",
       "      <td>Bunchu</td>\n",
       "      <td>23</td>\n",
       "      <td>42</td>\n",
       "    </tr>\n",
       "  </tbody>\n",
       "</table>\n",
       "</div>"
      ],
      "text/plain": [
       "   id section    name  math  english\n",
       "0   0     one     Mat    34       23\n",
       "1   1     one    Mike    12       13\n",
       "2   2     one    John    34       51\n",
       "3   3     two  Peecha    12       62\n",
       "4   4     two   Prabu    65       12\n",
       "5   5     two  Bunchu    23       42"
      ]
     },
     "execution_count": 106,
     "metadata": {},
     "output_type": "execute_result"
    }
   ],
   "source": [
    "score = pd.merge(left,right,on='id')\n",
    "score"
   ]
  },
  {
   "cell_type": "code",
   "execution_count": 107,
   "id": "9b56892e",
   "metadata": {},
   "outputs": [
    {
     "data": {
      "text/html": [
       "<div>\n",
       "<style scoped>\n",
       "    .dataframe tbody tr th:only-of-type {\n",
       "        vertical-align: middle;\n",
       "    }\n",
       "\n",
       "    .dataframe tbody tr th {\n",
       "        vertical-align: top;\n",
       "    }\n",
       "\n",
       "    .dataframe thead th {\n",
       "        text-align: right;\n",
       "    }\n",
       "</style>\n",
       "<table border=\"1\" class=\"dataframe\">\n",
       "  <thead>\n",
       "    <tr style=\"text-align: right;\">\n",
       "      <th></th>\n",
       "      <th>id</th>\n",
       "      <th>math</th>\n",
       "      <th>english</th>\n",
       "    </tr>\n",
       "    <tr>\n",
       "      <th>section</th>\n",
       "      <th></th>\n",
       "      <th></th>\n",
       "      <th></th>\n",
       "    </tr>\n",
       "  </thead>\n",
       "  <tbody>\n",
       "    <tr>\n",
       "      <th>one</th>\n",
       "      <td>3</td>\n",
       "      <td>80</td>\n",
       "      <td>87</td>\n",
       "    </tr>\n",
       "    <tr>\n",
       "      <th>two</th>\n",
       "      <td>12</td>\n",
       "      <td>100</td>\n",
       "      <td>116</td>\n",
       "    </tr>\n",
       "  </tbody>\n",
       "</table>\n",
       "</div>"
      ],
      "text/plain": [
       "         id  math  english\n",
       "section                   \n",
       "one       3    80       87\n",
       "two      12   100      116"
      ]
     },
     "execution_count": 107,
     "metadata": {},
     "output_type": "execute_result"
    }
   ],
   "source": [
    "score_sec = score.groupby('section')\n",
    "score_sec.sum()"
   ]
  },
  {
   "cell_type": "code",
   "execution_count": null,
   "id": "ca9c9f4d",
   "metadata": {},
   "outputs": [],
   "source": []
  }
 ],
 "metadata": {
  "kernelspec": {
   "display_name": "Python 3",
   "language": "python",
   "name": "python3"
  },
  "language_info": {
   "codemirror_mode": {
    "name": "ipython",
    "version": 3
   },
   "file_extension": ".py",
   "mimetype": "text/x-python",
   "name": "python",
   "nbconvert_exporter": "python",
   "pygments_lexer": "ipython3",
   "version": "3.8.8"
  }
 },
 "nbformat": 4,
 "nbformat_minor": 5
}
